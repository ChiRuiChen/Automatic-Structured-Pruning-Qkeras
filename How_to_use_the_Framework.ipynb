{
 "cells": [
  {
   "cell_type": "markdown",
   "metadata": {
    "id": "nYHb1ZgWsRii"
   },
   "source": [
    "# Pruning with our automatic structured Pruning framework\n",
    "Welcome to an end-to-end example for magnitude-based weight pruning\n",
    "\n",
    "**Summary**\n",
    "\n",
    "In this tutorial, you will:\n",
    "\n",
    "* Train a tf.keras model for CIFAR10 from scratch.\n",
    "* Fine tune the model by applying the pruning Framework and see the accuracy."
   ]
  },
  {
   "cell_type": "markdown",
   "metadata": {},
   "source": [
    "If you want to execute this notebook in Google Colab, uncomment the code below."
   ]
  },
  {
   "cell_type": "code",
   "execution_count": 1,
   "metadata": {
    "colab": {
     "base_uri": "https://localhost:8080/"
    },
    "id": "f_QYhrsRq_dL",
    "outputId": "459d5eeb-0c25-4d9c-8ccf-fec265a9b909"
   },
   "outputs": [],
   "source": [
    "# !git clone https://github.com/Hahn-Schickard/Automatic-Structured-Pruning\n",
    "# !echo $CWD\n",
    "# !cp -rf /content/Automatic-Structured-Pruning/* /content/"
   ]
  },
  {
   "cell_type": "code",
   "execution_count": 2,
   "metadata": {},
   "outputs": [],
   "source": [
    "import pruning"
   ]
  },
  {
   "cell_type": "markdown",
   "metadata": {
    "id": "P59sTXkZrcUB"
   },
   "source": [
    "## Train a model for CIFAR10 without pruning\n",
    "Download and prepare the CIFAR10 dataset.\n",
    "The CIFAR10 dataset contains 60,000 color images in 10 classes, with 6,000 images in each class. The dataset is divided into 50,000 training images and 10,000 testing images. The classes are mutually exclusive and there is no overlap between them.\n",
    "\n",
    "Create the convolutional base\n",
    "The 6 lines of code below define the convolutional base using a common pattern: a stack of Conv2D and MaxPooling2D layers.\n",
    "\n",
    "As input, a CNN takes tensors of shape (image_height, image_width, color_channels), ignoring the batch size. If you are new to these dimensions, color_channels refers to (R,G,B). In this example, you will configure our CNN to process inputs of shape (32, 32, 3), which is the format of CIFAR images. You can do this by passing the argument input_shape to our first layer.\n",
    "\n",
    "To complete our model, you will feed the last output tensor from the convolutional base (of shape (4, 4, 64)) into one or more Dense layers to perform classification. Dense layers take vectors as input (which are 1D), while the current output is a 3D tensor. First, you will flatten (or unroll) the 3D output to 1D, then add one or more Dense layers on top. CIFAR has 10 output classes, so you use a final Dense layer with 10 outputs and a softmax activation."
   ]
  },
  {
   "cell_type": "code",
   "execution_count": 3,
   "metadata": {
    "colab": {
     "base_uri": "https://localhost:8080/"
    },
    "id": "lOE5QdnNq_dQ",
    "outputId": "1f6861d6-952c-464b-be78-c274a4d189dc"
   },
   "outputs": [
    {
     "name": "stdout",
     "output_type": "stream",
     "text": [
      "Model: \"sequential\"\n",
      "_________________________________________________________________\n",
      "Layer (type)                 Output Shape              Param #   \n",
      "=================================================================\n",
      "conv2d (Conv2D)              (None, 30, 30, 32)        896       \n",
      "_________________________________________________________________\n",
      "max_pooling2d (MaxPooling2D) (None, 15, 15, 32)        0         \n",
      "_________________________________________________________________\n",
      "conv2d_1 (Conv2D)            (None, 13, 13, 64)        18496     \n",
      "_________________________________________________________________\n",
      "max_pooling2d_1 (MaxPooling2 (None, 6, 6, 64)          0         \n",
      "_________________________________________________________________\n",
      "conv2d_2 (Conv2D)            (None, 4, 4, 64)          36928     \n",
      "_________________________________________________________________\n",
      "max_pooling2d_2 (MaxPooling2 (None, 2, 2, 64)          0         \n",
      "_________________________________________________________________\n",
      "flatten (Flatten)            (None, 256)               0         \n",
      "_________________________________________________________________\n",
      "dense (Dense)                (None, 64)                16448     \n",
      "_________________________________________________________________\n",
      "dropout (Dropout)            (None, 64)                0         \n",
      "_________________________________________________________________\n",
      "dense_1 (Dense)              (None, 32)                2080      \n",
      "_________________________________________________________________\n",
      "dropout_1 (Dropout)          (None, 32)                0         \n",
      "_________________________________________________________________\n",
      "dense_2 (Dense)              (None, 10)                330       \n",
      "=================================================================\n",
      "Total params: 75,178\n",
      "Trainable params: 75,178\n",
      "Non-trainable params: 0\n",
      "_________________________________________________________________\n"
     ]
    }
   ],
   "source": [
    "import tensorflow as tf\n",
    "from tensorflow.keras import datasets, layers, models\n",
    "\n",
    "\n",
    "(train_images, train_labels), (test_images, test_labels) = datasets.cifar10.load_data()\n",
    "\n",
    "# Normalize pixel values to be between 0 and 1\n",
    "train_images, test_images = train_images / 255.0, test_images / 255.0\n",
    "\n",
    "model = models.Sequential()\n",
    "model.add(layers.Conv2D(32, (3, 3), activation='relu', input_shape=(32, 32, 3)))\n",
    "model.add(layers.MaxPooling2D((2, 2)))\n",
    "model.add(layers.Conv2D(64, (3, 3), activation='relu'))\n",
    "model.add(layers.MaxPooling2D((2, 2)))\n",
    "model.add(layers.Conv2D(64, (3, 3), activation='relu'))\n",
    "model.add(layers.MaxPooling2D((2, 2)))\n",
    "model.add(layers.Flatten())\n",
    "model.add(layers.Dense(64, activation='relu'))\n",
    "model.add(layers.Dropout(0.3))\n",
    "model.add(layers.Dense(32, activation='relu'))\n",
    "model.add(layers.Dropout(0.25))\n",
    "model.add(layers.Dense(10, activation='softmax'))\n",
    "\n",
    "model.summary()"
   ]
  },
  {
   "cell_type": "markdown",
   "metadata": {
    "id": "oY3Yas0wrmZf"
   },
   "source": [
    "Above, you can see that the output of every Conv2D and MaxPooling2D layer is a 3D tensor of shape (height, width, channels). The width and height dimensions tend to shrink as you go deeper in the network. The number of output channels for each Conv2D layer is controlled by the first argument (e.g., 32 or 64). Typically, as the width and height shrink, you can afford (computationally) to add more output channels in each Conv2D layer.\n",
    "As you can see, our (4, 4, 64) outputs were flattened into vectors of shape (1024) before going through two Dense layers."
   ]
  },
  {
   "cell_type": "markdown",
   "metadata": {
    "id": "ei2Brtgc232J"
   },
   "source": [
    "## Compile and train the model"
   ]
  },
  {
   "cell_type": "code",
   "execution_count": 4,
   "metadata": {
    "colab": {
     "base_uri": "https://localhost:8080/"
    },
    "id": "5Slx3T9n24o6",
    "outputId": "119ec2c1-30b9-4aca-a26e-ab6317f3765a"
   },
   "outputs": [
    {
     "name": "stdout",
     "output_type": "stream",
     "text": [
      "Epoch 1/30\n",
      "313/313 [==============================] - 13s 9ms/step - loss: 1.9751 - accuracy: 0.2511 - val_loss: 1.6634 - val_accuracy: 0.3810\n",
      "Epoch 2/30\n",
      "313/313 [==============================] - 2s 7ms/step - loss: 1.6420 - accuracy: 0.3889 - val_loss: 1.5236 - val_accuracy: 0.4487\n",
      "Epoch 3/30\n",
      "313/313 [==============================] - 2s 6ms/step - loss: 1.4921 - accuracy: 0.4547 - val_loss: 1.3377 - val_accuracy: 0.5095\n",
      "Epoch 4/30\n",
      "313/313 [==============================] - 2s 6ms/step - loss: 1.3850 - accuracy: 0.4965 - val_loss: 1.3040 - val_accuracy: 0.5307\n",
      "Epoch 5/30\n",
      "313/313 [==============================] - 2s 6ms/step - loss: 1.3070 - accuracy: 0.5298 - val_loss: 1.2000 - val_accuracy: 0.5697\n",
      "Epoch 6/30\n",
      "313/313 [==============================] - 2s 6ms/step - loss: 1.2501 - accuracy: 0.5571 - val_loss: 1.1762 - val_accuracy: 0.5813\n",
      "Epoch 7/30\n",
      "313/313 [==============================] - 2s 6ms/step - loss: 1.2175 - accuracy: 0.5702 - val_loss: 1.1173 - val_accuracy: 0.6057\n",
      "Epoch 8/30\n",
      "313/313 [==============================] - 2s 6ms/step - loss: 1.1549 - accuracy: 0.5897 - val_loss: 1.0905 - val_accuracy: 0.6093\n",
      "Epoch 9/30\n",
      "313/313 [==============================] - 2s 6ms/step - loss: 1.1219 - accuracy: 0.6077 - val_loss: 1.0738 - val_accuracy: 0.6180\n",
      "Epoch 10/30\n",
      "313/313 [==============================] - 2s 6ms/step - loss: 1.0748 - accuracy: 0.6215 - val_loss: 1.0414 - val_accuracy: 0.6293\n",
      "Epoch 11/30\n",
      "313/313 [==============================] - 2s 6ms/step - loss: 1.0440 - accuracy: 0.6361 - val_loss: 1.0188 - val_accuracy: 0.6380\n",
      "Epoch 12/30\n",
      "313/313 [==============================] - 2s 6ms/step - loss: 1.0229 - accuracy: 0.6452 - val_loss: 0.9925 - val_accuracy: 0.6567\n",
      "Epoch 13/30\n",
      "313/313 [==============================] - 2s 6ms/step - loss: 0.9919 - accuracy: 0.6552 - val_loss: 1.0073 - val_accuracy: 0.6442\n",
      "Epoch 14/30\n",
      "313/313 [==============================] - 2s 6ms/step - loss: 0.9685 - accuracy: 0.6640 - val_loss: 0.9735 - val_accuracy: 0.6605\n",
      "Epoch 15/30\n",
      "313/313 [==============================] - 2s 6ms/step - loss: 0.9439 - accuracy: 0.6721 - val_loss: 0.9664 - val_accuracy: 0.6647\n",
      "Epoch 16/30\n",
      "313/313 [==============================] - 2s 6ms/step - loss: 0.9193 - accuracy: 0.6815 - val_loss: 0.9671 - val_accuracy: 0.6649\n",
      "Epoch 17/30\n",
      "313/313 [==============================] - 2s 6ms/step - loss: 0.9023 - accuracy: 0.6880 - val_loss: 0.9654 - val_accuracy: 0.6697\n",
      "Epoch 18/30\n",
      "313/313 [==============================] - 2s 6ms/step - loss: 0.8807 - accuracy: 0.6957 - val_loss: 0.9374 - val_accuracy: 0.6782\n",
      "Epoch 19/30\n",
      "313/313 [==============================] - 2s 6ms/step - loss: 0.8626 - accuracy: 0.7007 - val_loss: 0.9264 - val_accuracy: 0.6814\n",
      "Epoch 20/30\n",
      "313/313 [==============================] - 2s 6ms/step - loss: 0.8468 - accuracy: 0.7065 - val_loss: 0.9455 - val_accuracy: 0.6739\n",
      "Epoch 21/30\n",
      "313/313 [==============================] - 2s 6ms/step - loss: 0.8246 - accuracy: 0.7149 - val_loss: 0.9489 - val_accuracy: 0.6827\n",
      "Epoch 22/30\n",
      "313/313 [==============================] - 2s 6ms/step - loss: 0.8078 - accuracy: 0.7206 - val_loss: 0.9054 - val_accuracy: 0.6938\n",
      "Epoch 23/30\n",
      "313/313 [==============================] - 2s 6ms/step - loss: 0.7940 - accuracy: 0.7272 - val_loss: 0.9525 - val_accuracy: 0.6807\n",
      "Epoch 24/30\n",
      "313/313 [==============================] - 2s 6ms/step - loss: 0.7779 - accuracy: 0.7326 - val_loss: 0.9338 - val_accuracy: 0.6880\n",
      "Epoch 25/30\n",
      "313/313 [==============================] - 2s 6ms/step - loss: 0.7619 - accuracy: 0.7372 - val_loss: 0.9509 - val_accuracy: 0.6846\n",
      "Epoch 26/30\n",
      "313/313 [==============================] - 2s 6ms/step - loss: 0.7433 - accuracy: 0.7447 - val_loss: 0.9043 - val_accuracy: 0.6944\n",
      "Epoch 27/30\n",
      "313/313 [==============================] - 2s 6ms/step - loss: 0.7369 - accuracy: 0.7454 - val_loss: 0.9156 - val_accuracy: 0.6967\n",
      "Epoch 28/30\n",
      "313/313 [==============================] - 2s 6ms/step - loss: 0.7285 - accuracy: 0.7512 - val_loss: 0.9707 - val_accuracy: 0.6737\n",
      "Epoch 29/30\n",
      "313/313 [==============================] - 2s 6ms/step - loss: 0.7079 - accuracy: 0.7571 - val_loss: 0.9139 - val_accuracy: 0.7030\n",
      "Epoch 30/30\n",
      "313/313 [==============================] - 2s 7ms/step - loss: 0.7112 - accuracy: 0.7548 - val_loss: 0.9177 - val_accuracy: 0.7001\n",
      "313/313 - 1s - loss: 0.9178 - accuracy: 0.6950\n"
     ]
    }
   ],
   "source": [
    "\n",
    "comp = {\n",
    "\"optimizer\":'adam',\n",
    "\"loss\": tf.keras.losses.SparseCategoricalCrossentropy(),\n",
    "\"metrics\": ['accuracy']}\n",
    "\n",
    "model.compile(**comp)\n",
    "callbacks = [tf.keras.callbacks.EarlyStopping(monitor='val_loss', patience=5, restore_best_weights=True)]\n",
    "\n",
    "model.fit(train_images, train_labels, validation_split=0.2, epochs=30, batch_size=128, callbacks=callbacks)\n",
    "\n",
    "test_loss, test_acc = model.evaluate(test_images, test_labels, verbose=2)"
   ]
  },
  {
   "cell_type": "code",
   "execution_count": 5,
   "metadata": {
    "id": "qXneu-31q_dT"
   },
   "outputs": [],
   "source": [
    "model.save('CIFAR10_model.h5') "
   ]
  },
  {
   "cell_type": "markdown",
   "metadata": {
    "id": "NtV0lMtArsup"
   },
   "source": [
    "## Fine-tune pre-trained model with pruning\n",
    "You will apply pruning to the whole model and see this in the model summary.\n",
    "\n",
    "In this example, you prune the model with 30% dense pruning and 40% filter pruning."
   ]
  },
  {
   "cell_type": "code",
   "execution_count": 6,
   "metadata": {
    "colab": {
     "base_uri": "https://localhost:8080/"
    },
    "id": "VWLQMAO3q_db",
    "outputId": "ede18f6b-a318-497b-8cd6-f22e7bc8b62c"
   },
   "outputs": [
    {
     "name": "stdout",
     "output_type": "stream",
     "text": [
      "Finish with pruning\n",
      "Before pruning:\n",
      "Model: \"sequential\"\n",
      "_________________________________________________________________\n",
      "Layer (type)                 Output Shape              Param #   \n",
      "=================================================================\n",
      "conv2d (Conv2D)              (None, 30, 30, 32)        896       \n",
      "_________________________________________________________________\n",
      "max_pooling2d (MaxPooling2D) (None, 15, 15, 32)        0         \n",
      "_________________________________________________________________\n",
      "conv2d_1 (Conv2D)            (None, 13, 13, 64)        18496     \n",
      "_________________________________________________________________\n",
      "max_pooling2d_1 (MaxPooling2 (None, 6, 6, 64)          0         \n",
      "_________________________________________________________________\n",
      "conv2d_2 (Conv2D)            (None, 4, 4, 64)          36928     \n",
      "_________________________________________________________________\n",
      "max_pooling2d_2 (MaxPooling2 (None, 2, 2, 64)          0         \n",
      "_________________________________________________________________\n",
      "flatten (Flatten)            (None, 256)               0         \n",
      "_________________________________________________________________\n",
      "dense (Dense)                (None, 64)                16448     \n",
      "_________________________________________________________________\n",
      "dropout (Dropout)            (None, 64)                0         \n",
      "_________________________________________________________________\n",
      "dense_1 (Dense)              (None, 32)                2080      \n",
      "_________________________________________________________________\n",
      "dropout_1 (Dropout)          (None, 32)                0         \n",
      "_________________________________________________________________\n",
      "dense_2 (Dense)              (None, 10)                330       \n",
      "=================================================================\n",
      "Total params: 75,178\n",
      "Trainable params: 75,178\n",
      "Non-trainable params: 0\n",
      "_________________________________________________________________\n",
      "After pruning:\n",
      "Model: \"sequential\"\n",
      "_________________________________________________________________\n",
      "Layer (type)                 Output Shape              Param #   \n",
      "=================================================================\n",
      "conv2d (Conv2D)              (None, 30, 30, 20)        560       \n",
      "_________________________________________________________________\n",
      "max_pooling2d (MaxPooling2D) (None, 15, 15, 20)        0         \n",
      "_________________________________________________________________\n",
      "conv2d_1 (Conv2D)            (None, 13, 13, 39)        7059      \n",
      "_________________________________________________________________\n",
      "max_pooling2d_1 (MaxPooling2 (None, 6, 6, 39)          0         \n",
      "_________________________________________________________________\n",
      "conv2d_2 (Conv2D)            (None, 4, 4, 39)          13728     \n",
      "_________________________________________________________________\n",
      "max_pooling2d_2 (MaxPooling2 (None, 2, 2, 39)          0         \n",
      "_________________________________________________________________\n",
      "flatten (Flatten)            (None, 156)               0         \n",
      "_________________________________________________________________\n",
      "dense (Dense)                (None, 45)                7065      \n",
      "_________________________________________________________________\n",
      "dropout (Dropout)            (None, 45)                0         \n",
      "_________________________________________________________________\n",
      "dense_1 (Dense)              (None, 23)                1058      \n",
      "_________________________________________________________________\n",
      "dropout_1 (Dropout)          (None, 23)                0         \n",
      "_________________________________________________________________\n",
      "dense_2 (Dense)              (None, 10)                240       \n",
      "=================================================================\n",
      "Total params: 29,710\n",
      "Trainable params: 29,710\n",
      "Non-trainable params: 0\n",
      "_________________________________________________________________\n",
      "Model built\n"
     ]
    },
    {
     "name": "stderr",
     "output_type": "stream",
     "text": [
      "c:\\Users\\dk100\\Documents\\Automatic-Structured-Pruning\\pruning_helper_functions.py:108: VisibleDeprecationWarning: Creating an ndarray from ragged nested sequences (which is a list-or-tuple of lists-or-tuples-or ndarrays with different lengths or shapes) is deprecated. If you meant to do this, you must specify 'dtype=object' when creating the ndarray\n",
      "  return np.array(layer_types), np.array(layer_params), \\\n"
     ]
    }
   ],
   "source": [
    "dense_prune_rate=30\n",
    "conv_prune_rate=40\n",
    "prunemodel=pruning.prune_model('./CIFAR10_model.h5', dense_prune_rate, conv_prune_rate,'L2', num_classes=10)"
   ]
  },
  {
   "cell_type": "markdown",
   "metadata": {
    "id": "Kz2f5f-o_6mX"
   },
   "source": [
    "We see how we get less parameter in the pruned model."
   ]
  },
  {
   "cell_type": "markdown",
   "metadata": {
    "id": "eHSCkPz19Fwl"
   },
   "source": [
    "## Compile and re-train the model"
   ]
  },
  {
   "cell_type": "code",
   "execution_count": 7,
   "metadata": {},
   "outputs": [
    {
     "name": "stdout",
     "output_type": "stream",
     "text": [
      "Model: \"sequential\"\n",
      "_________________________________________________________________\n",
      "Layer (type)                 Output Shape              Param #   \n",
      "=================================================================\n",
      "conv2d (Conv2D)              (None, 30, 30, 20)        560       \n",
      "_________________________________________________________________\n",
      "max_pooling2d (MaxPooling2D) (None, 15, 15, 20)        0         \n",
      "_________________________________________________________________\n",
      "conv2d_1 (Conv2D)            (None, 13, 13, 39)        7059      \n",
      "_________________________________________________________________\n",
      "max_pooling2d_1 (MaxPooling2 (None, 6, 6, 39)          0         \n",
      "_________________________________________________________________\n",
      "conv2d_2 (Conv2D)            (None, 4, 4, 39)          13728     \n",
      "_________________________________________________________________\n",
      "max_pooling2d_2 (MaxPooling2 (None, 2, 2, 39)          0         \n",
      "_________________________________________________________________\n",
      "flatten (Flatten)            (None, 156)               0         \n",
      "_________________________________________________________________\n",
      "dense (Dense)                (None, 45)                7065      \n",
      "_________________________________________________________________\n",
      "dropout (Dropout)            (None, 45)                0         \n",
      "_________________________________________________________________\n",
      "dense_1 (Dense)              (None, 23)                1058      \n",
      "_________________________________________________________________\n",
      "dropout_1 (Dropout)          (None, 23)                0         \n",
      "_________________________________________________________________\n",
      "dense_2 (Dense)              (None, 10)                240       \n",
      "=================================================================\n",
      "Total params: 29,710\n",
      "Trainable params: 29,710\n",
      "Non-trainable params: 0\n",
      "_________________________________________________________________\n"
     ]
    }
   ],
   "source": [
    "prunemodel.summary()"
   ]
  },
  {
   "cell_type": "code",
   "execution_count": 8,
   "metadata": {
    "id": "jPAucXYJq_di"
   },
   "outputs": [
    {
     "name": "stdout",
     "output_type": "stream",
     "text": [
      "Epoch 1/10\n",
      "1250/1250 [==============================] - 7s 5ms/step - loss: 1.4468 - accuracy: 0.4859 - val_loss: 1.1077 - val_accuracy: 0.6084\n",
      "Epoch 2/10\n",
      "1250/1250 [==============================] - 7s 5ms/step - loss: 1.1553 - accuracy: 0.6024 - val_loss: 1.0277 - val_accuracy: 0.6404\n",
      "Epoch 3/10\n",
      "1250/1250 [==============================] - 7s 6ms/step - loss: 1.0625 - accuracy: 0.6363 - val_loss: 0.9939 - val_accuracy: 0.6495\n",
      "Epoch 4/10\n",
      "1250/1250 [==============================] - 7s 6ms/step - loss: 1.0076 - accuracy: 0.6567 - val_loss: 0.9646 - val_accuracy: 0.6618\n",
      "Epoch 5/10\n",
      "1250/1250 [==============================] - 6s 5ms/step - loss: 0.9676 - accuracy: 0.6732 - val_loss: 0.9892 - val_accuracy: 0.6569\n",
      "Epoch 6/10\n",
      "1250/1250 [==============================] - 6s 5ms/step - loss: 0.9372 - accuracy: 0.6801 - val_loss: 0.9426 - val_accuracy: 0.6759\n",
      "Epoch 7/10\n",
      "1250/1250 [==============================] - 7s 5ms/step - loss: 0.9104 - accuracy: 0.6924 - val_loss: 1.0318 - val_accuracy: 0.6498\n",
      "Epoch 8/10\n",
      "1250/1250 [==============================] - 7s 6ms/step - loss: 0.8899 - accuracy: 0.6965 - val_loss: 0.9938 - val_accuracy: 0.6566\n",
      "Epoch 9/10\n",
      "1250/1250 [==============================] - 7s 5ms/step - loss: 0.8781 - accuracy: 0.7032 - val_loss: 0.9987 - val_accuracy: 0.6620\n",
      "Epoch 10/10\n",
      "1250/1250 [==============================] - 6s 5ms/step - loss: 0.8556 - accuracy: 0.7104 - val_loss: 0.9245 - val_accuracy: 0.6913\n"
     ]
    }
   ],
   "source": [
    "comp = {\n",
    "\"optimizer\":'adam',\n",
    "\"loss\": tf.keras.losses.SparseCategoricalCrossentropy(),\n",
    "\"metrics\": ['accuracy']}\n",
    "\n",
    "prunemodel.compile(**comp)\n",
    "\n",
    "prunemodel.fit(train_images, train_labels, epochs=10, validation_split=0.2)"
   ]
  },
  {
   "cell_type": "markdown",
   "metadata": {
    "id": "0y_x_9EjAQbz"
   },
   "source": [
    "Compare both models"
   ]
  },
  {
   "cell_type": "code",
   "execution_count": 9,
   "metadata": {
    "id": "hw1IIf0CAReG"
   },
   "outputs": [
    {
     "name": "stdout",
     "output_type": "stream",
     "text": [
      "313/313 - 1s - loss: 0.9178 - accuracy: 0.6950\n",
      "313/313 - 1s - loss: 0.9234 - accuracy: 0.6941\n"
     ]
    }
   ],
   "source": [
    "test_loss, test_acc = model.evaluate(test_images,  test_labels, verbose=2)\n",
    "test_loss, test_acc = prunemodel.evaluate(test_images,  test_labels, verbose=2)"
   ]
  },
  {
   "cell_type": "code",
   "execution_count": 10,
   "metadata": {},
   "outputs": [
    {
     "name": "stdout",
     "output_type": "stream",
     "text": [
      "Total number of parameters before pruning: 75178\n",
      "Total number of parameters after pruning: 29710\n",
      "Pruned model contains only 39.52 % of the original number of parameters.\n"
     ]
    }
   ],
   "source": [
    "print(f\"Total number of parameters before pruning: {model.count_params()}\")\n",
    "print(f\"Total number of parameters after pruning: {prunemodel.count_params()}\")\n",
    "print(f\"Pruned model contains only {(prunemodel.count_params()/model.count_params())*100:.2f} % of the original number of parameters.\")"
   ]
  },
  {
   "cell_type": "markdown",
   "metadata": {
    "id": "vSgcm-WoclIF"
   },
   "source": [
    "# Prune a model to a maximum accuracy loss\n",
    "\n",
    "We define the arguments to compile the model. In this case, we only want to have an accuracy loss of 3%.\n",
    "In this example we have loaded the data directly from a TensorFlow dataset. Therefore, we do not have a defined dataloader (path or file). However, the structure of the training data is the same as the data we would read from a Python file. Therefore, we use a trick here and pass an existing FILE from the current folder as the dataloader path. This way the correct functions will be executed afterwards and no error will be issued."
   ]
  },
  {
   "cell_type": "code",
   "execution_count": 11,
   "metadata": {
    "id": "rUtd-GqJdJNx"
   },
   "outputs": [
    {
     "name": "stdout",
     "output_type": "stream",
     "text": [
      "313/313 [==============================] - 1s 3ms/step - loss: 0.6162 - accuracy: 0.7899\n",
      "Start model accuracy: 78.9900004863739%\n",
      "Next pruning factors: 5\n",
      "Finish with pruning\n",
      "Before pruning:\n",
      "Model: \"sequential\"\n",
      "_________________________________________________________________\n",
      "Layer (type)                 Output Shape              Param #   \n",
      "=================================================================\n",
      "conv2d (Conv2D)              (None, 30, 30, 32)        896       \n",
      "_________________________________________________________________\n",
      "max_pooling2d (MaxPooling2D) (None, 15, 15, 32)        0         \n",
      "_________________________________________________________________\n",
      "conv2d_1 (Conv2D)            (None, 13, 13, 64)        18496     \n",
      "_________________________________________________________________\n",
      "max_pooling2d_1 (MaxPooling2 (None, 6, 6, 64)          0         \n",
      "_________________________________________________________________\n",
      "conv2d_2 (Conv2D)            (None, 4, 4, 64)          36928     \n",
      "_________________________________________________________________\n",
      "max_pooling2d_2 (MaxPooling2 (None, 2, 2, 64)          0         \n",
      "_________________________________________________________________\n",
      "flatten (Flatten)            (None, 256)               0         \n",
      "_________________________________________________________________\n",
      "dense (Dense)                (None, 64)                16448     \n",
      "_________________________________________________________________\n",
      "dropout (Dropout)            (None, 64)                0         \n",
      "_________________________________________________________________\n",
      "dense_1 (Dense)              (None, 32)                2080      \n",
      "_________________________________________________________________\n",
      "dropout_1 (Dropout)          (None, 32)                0         \n",
      "_________________________________________________________________\n",
      "dense_2 (Dense)              (None, 10)                330       \n",
      "=================================================================\n",
      "Total params: 75,178\n",
      "Trainable params: 75,178\n",
      "Non-trainable params: 0\n",
      "_________________________________________________________________\n",
      "After pruning:\n",
      "Model: \"sequential\"\n",
      "_________________________________________________________________\n",
      "Layer (type)                 Output Shape              Param #   \n",
      "=================================================================\n",
      "conv2d (Conv2D)              (None, 30, 30, 31)        868       \n",
      "_________________________________________________________________\n",
      "max_pooling2d (MaxPooling2D) (None, 15, 15, 31)        0         \n",
      "_________________________________________________________________\n",
      "conv2d_1 (Conv2D)            (None, 13, 13, 61)        17080     \n",
      "_________________________________________________________________\n",
      "max_pooling2d_1 (MaxPooling2 (None, 6, 6, 61)          0         \n",
      "_________________________________________________________________\n",
      "conv2d_2 (Conv2D)            (None, 4, 4, 61)          33550     \n",
      "_________________________________________________________________\n",
      "max_pooling2d_2 (MaxPooling2 (None, 2, 2, 61)          0         \n",
      "_________________________________________________________________\n",
      "flatten (Flatten)            (None, 244)               0         \n",
      "_________________________________________________________________\n",
      "dense (Dense)                (None, 61)                14945     \n",
      "_________________________________________________________________\n",
      "dropout (Dropout)            (None, 61)                0         \n",
      "_________________________________________________________________\n",
      "dense_1 (Dense)              (None, 31)                1922      \n",
      "_________________________________________________________________\n",
      "dropout_1 (Dropout)          (None, 31)                0         \n",
      "_________________________________________________________________\n",
      "dense_2 (Dense)              (None, 10)                320       \n",
      "=================================================================\n",
      "Total params: 68,685\n",
      "Trainable params: 68,685\n",
      "Non-trainable params: 0\n",
      "_________________________________________________________________\n",
      "Model built\n",
      "Epoch 1/10\n",
      "625/625 [==============================] - 4s 6ms/step - loss: 1.2168 - accuracy: 0.5803 - val_loss: 0.9329 - val_accuracy: 0.6793\n",
      "Epoch 2/10\n",
      "625/625 [==============================] - 3s 5ms/step - loss: 0.9801 - accuracy: 0.6664 - val_loss: 0.8733 - val_accuracy: 0.6956\n",
      "Epoch 3/10\n",
      "625/625 [==============================] - 3s 5ms/step - loss: 0.9051 - accuracy: 0.6900 - val_loss: 0.8723 - val_accuracy: 0.6900\n",
      "Epoch 4/10\n",
      "625/625 [==============================] - 3s 5ms/step - loss: 0.8528 - accuracy: 0.7090 - val_loss: 0.8314 - val_accuracy: 0.7113\n",
      "Epoch 5/10\n",
      "625/625 [==============================] - 3s 6ms/step - loss: 0.8151 - accuracy: 0.7229 - val_loss: 0.8145 - val_accuracy: 0.7206\n",
      "Epoch 6/10\n",
      "625/625 [==============================] - 3s 6ms/step - loss: 0.7839 - accuracy: 0.7333 - val_loss: 0.8103 - val_accuracy: 0.7237\n",
      "Epoch 7/10\n",
      "625/625 [==============================] - 3s 6ms/step - loss: 0.7643 - accuracy: 0.7405 - val_loss: 0.8004 - val_accuracy: 0.7307\n",
      "Epoch 8/10\n",
      "625/625 [==============================] - 3s 5ms/step - loss: 0.7342 - accuracy: 0.7495 - val_loss: 0.8023 - val_accuracy: 0.7255\n",
      "Epoch 9/10\n",
      "625/625 [==============================] - 3s 5ms/step - loss: 0.7199 - accuracy: 0.7555 - val_loss: 0.8553 - val_accuracy: 0.7103\n",
      "Epoch 10/10\n",
      "625/625 [==============================] - 3s 5ms/step - loss: 0.6996 - accuracy: 0.7612 - val_loss: 0.8078 - val_accuracy: 0.7301\n",
      "No pruning possible\n"
     ]
    }
   ],
   "source": [
    "comp = {\n",
    "  \"optimizer\": 'adam',\n",
    "  \"loss\": tf.keras.losses.SparseCategoricalCrossentropy(),\n",
    "  \"metrics\": 'accuracy'\n",
    "}\n",
    "\n",
    "auto_model = pruning.pruning_for_acc('./CIFAR10_model.h5', train_images, train_labels, comp, pruning_acc=None,\n",
    "                                  max_acc_loss=5, num_classes=10, label_one_hot=False)"
   ]
  },
  {
   "cell_type": "code",
   "execution_count": 12,
   "metadata": {},
   "outputs": [
    {
     "name": "stdout",
     "output_type": "stream",
     "text": [
      "Model: \"sequential\"\n",
      "_________________________________________________________________\n",
      "Layer (type)                 Output Shape              Param #   \n",
      "=================================================================\n",
      "conv2d (Conv2D)              (None, 30, 30, 32)        896       \n",
      "_________________________________________________________________\n",
      "max_pooling2d (MaxPooling2D) (None, 15, 15, 32)        0         \n",
      "_________________________________________________________________\n",
      "conv2d_1 (Conv2D)            (None, 13, 13, 64)        18496     \n",
      "_________________________________________________________________\n",
      "max_pooling2d_1 (MaxPooling2 (None, 6, 6, 64)          0         \n",
      "_________________________________________________________________\n",
      "conv2d_2 (Conv2D)            (None, 4, 4, 64)          36928     \n",
      "_________________________________________________________________\n",
      "max_pooling2d_2 (MaxPooling2 (None, 2, 2, 64)          0         \n",
      "_________________________________________________________________\n",
      "flatten (Flatten)            (None, 256)               0         \n",
      "_________________________________________________________________\n",
      "dense (Dense)                (None, 64)                16448     \n",
      "_________________________________________________________________\n",
      "dropout (Dropout)            (None, 64)                0         \n",
      "_________________________________________________________________\n",
      "dense_1 (Dense)              (None, 32)                2080      \n",
      "_________________________________________________________________\n",
      "dropout_1 (Dropout)          (None, 32)                0         \n",
      "_________________________________________________________________\n",
      "dense_2 (Dense)              (None, 10)                330       \n",
      "=================================================================\n",
      "Total params: 75,178\n",
      "Trainable params: 75,178\n",
      "Non-trainable params: 0\n",
      "_________________________________________________________________\n"
     ]
    }
   ],
   "source": [
    "auto_model.summary()"
   ]
  },
  {
   "cell_type": "markdown",
   "metadata": {},
   "source": [
    "Compare both models"
   ]
  },
  {
   "cell_type": "code",
   "execution_count": 13,
   "metadata": {},
   "outputs": [
    {
     "name": "stdout",
     "output_type": "stream",
     "text": [
      "313/313 - 1s - loss: 0.9178 - accuracy: 0.6950\n",
      "313/313 - 1s - loss: 0.9178 - accuracy: 0.6950\n"
     ]
    }
   ],
   "source": [
    "test_loss, test_acc = model.evaluate(test_images,  test_labels, verbose=2)\n",
    "test_loss, test_acc = auto_model.evaluate(test_images,  test_labels, verbose=2)"
   ]
  },
  {
   "cell_type": "code",
   "execution_count": 14,
   "metadata": {},
   "outputs": [
    {
     "name": "stdout",
     "output_type": "stream",
     "text": [
      "Total number of parameters before pruning: 75178\n",
      "Total number of parameters after pruning: 75178\n",
      "Pruned model contains only 100.00 % of the original number of parameters.\n"
     ]
    }
   ],
   "source": [
    "print(f\"Total number of parameters before pruning: {model.count_params()}\")\n",
    "print(f\"Total number of parameters after pruning: {auto_model.count_params()}\")\n",
    "print(f\"Pruned model contains only {(auto_model.count_params()/model.count_params())*100:.2f} % of the original number of parameters.\")"
   ]
  }
 ],
 "metadata": {
  "colab": {
   "collapsed_sections": [],
   "name": "How_to_use_the_Framework.ipynb",
   "provenance": []
  },
  "kernelspec": {
   "display_name": "Python 3.8.12 ('AutoFlow')",
   "language": "python",
   "name": "python3"
  },
  "language_info": {
   "codemirror_mode": {
    "name": "ipython",
    "version": 3
   },
   "file_extension": ".py",
   "mimetype": "text/x-python",
   "name": "python",
   "nbconvert_exporter": "python",
   "pygments_lexer": "ipython3",
   "version": "3.8.12"
  },
  "vscode": {
   "interpreter": {
    "hash": "4f32e5c370c606f0f46152abb6e37dab14f41f338aa6bf5a663565349fcdc4cc"
   }
  }
 },
 "nbformat": 4,
 "nbformat_minor": 1
}
