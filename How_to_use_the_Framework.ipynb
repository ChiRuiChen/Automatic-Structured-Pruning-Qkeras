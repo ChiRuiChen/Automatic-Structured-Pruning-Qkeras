{
  "cells": [
    {
      "cell_type": "markdown",
      "metadata": {
        "id": "nYHb1ZgWsRii"
      },
      "source": [
        "# Pruning with our automatic structured Pruning framework\n",
        "Welcome to an end-to-end example for magnitude-based weight pruning\n",
        "\n",
        "**Summary**\n",
        "\n",
        "In this tutorial, you will:\n",
        "\n",
        "* Train a tf.keras model for CIFAR10 from scratch.\n",
        "* Fine tune the model by applying the pruning Framework and see the accuracy."
      ]
    },
    {
      "cell_type": "markdown",
      "metadata": {},
      "source": [
        "If you want to execute this notebook in Google Colab, uncomment the code below."
      ]
    },
    {
      "cell_type": "code",
      "execution_count": 1,
      "metadata": {
        "colab": {
          "base_uri": "https://localhost:8080/"
        },
        "id": "f_QYhrsRq_dL",
        "outputId": "459d5eeb-0c25-4d9c-8ccf-fec265a9b909"
      },
      "outputs": [],
      "source": [
        "# !git clone https://github.com/Hahn-Schickard/Automatic-Structured-Pruning\n",
        "# !echo $CWD\n",
        "# !cp -rf /content/Automatic-Structured-Pruning/* /content/"
      ]
    },
    {
      "cell_type": "code",
      "execution_count": 2,
      "metadata": {},
      "outputs": [],
      "source": [
        "import pruning"
      ]
    },
    {
      "cell_type": "markdown",
      "metadata": {
        "id": "P59sTXkZrcUB"
      },
      "source": [
        "## Train a model for CIFAR10 without pruning\n",
        "Download and prepare the CIFAR10 dataset.\n",
        "The CIFAR10 dataset contains 60,000 color images in 10 classes, with 6,000 images in each class. The dataset is divided into 50,000 training images and 10,000 testing images. The classes are mutually exclusive and there is no overlap between them.\n",
        "\n",
        "Create the convolutional base\n",
        "The 6 lines of code below define the convolutional base using a common pattern: a stack of Conv2D and MaxPooling2D layers.\n",
        "\n",
        "As input, a CNN takes tensors of shape (image_height, image_width, color_channels), ignoring the batch size. If you are new to these dimensions, color_channels refers to (R,G,B). In this example, you will configure our CNN to process inputs of shape (32, 32, 3), which is the format of CIFAR images. You can do this by passing the argument input_shape to our first layer.\n",
        "\n",
        "To complete our model, you will feed the last output tensor from the convolutional base (of shape (4, 4, 64)) into one or more Dense layers to perform classification. Dense layers take vectors as input (which are 1D), while the current output is a 3D tensor. First, you will flatten (or unroll) the 3D output to 1D, then add one or more Dense layers on top. CIFAR has 10 output classes, so you use a final Dense layer with 10 outputs and a softmax activation."
      ]
    },
    {
      "cell_type": "code",
      "execution_count": 3,
      "metadata": {
        "colab": {
          "base_uri": "https://localhost:8080/"
        },
        "id": "lOE5QdnNq_dQ",
        "outputId": "1f6861d6-952c-464b-be78-c274a4d189dc"
      },
      "outputs": [
        {
          "name": "stdout",
          "output_type": "stream",
          "text": [
            "Model: \"sequential\"\n",
            "_________________________________________________________________\n",
            "Layer (type)                 Output Shape              Param #   \n",
            "=================================================================\n",
            "conv2d (Conv2D)              (None, 30, 30, 32)        896       \n",
            "_________________________________________________________________\n",
            "max_pooling2d (MaxPooling2D) (None, 15, 15, 32)        0         \n",
            "_________________________________________________________________\n",
            "conv2d_1 (Conv2D)            (None, 13, 13, 64)        18496     \n",
            "_________________________________________________________________\n",
            "max_pooling2d_1 (MaxPooling2 (None, 6, 6, 64)          0         \n",
            "_________________________________________________________________\n",
            "conv2d_2 (Conv2D)            (None, 4, 4, 64)          36928     \n",
            "_________________________________________________________________\n",
            "max_pooling2d_2 (MaxPooling2 (None, 2, 2, 64)          0         \n",
            "_________________________________________________________________\n",
            "flatten (Flatten)            (None, 256)               0         \n",
            "_________________________________________________________________\n",
            "dense (Dense)                (None, 64)                16448     \n",
            "_________________________________________________________________\n",
            "dropout (Dropout)            (None, 64)                0         \n",
            "_________________________________________________________________\n",
            "dense_1 (Dense)              (None, 32)                2080      \n",
            "_________________________________________________________________\n",
            "dropout_1 (Dropout)          (None, 32)                0         \n",
            "_________________________________________________________________\n",
            "dense_2 (Dense)              (None, 10)                330       \n",
            "=================================================================\n",
            "Total params: 75,178\n",
            "Trainable params: 75,178\n",
            "Non-trainable params: 0\n",
            "_________________________________________________________________\n"
          ]
        }
      ],
      "source": [
        "import tensorflow as tf\n",
        "from tensorflow.keras import datasets, layers, models\n",
        "\n",
        "\n",
        "(train_images, train_labels), (test_images, test_labels) = datasets.cifar10.load_data()\n",
        "\n",
        "# Normalize pixel values to be between 0 and 1\n",
        "train_images, test_images = train_images / 255.0, test_images / 255.0\n",
        "\n",
        "model = models.Sequential()\n",
        "model.add(layers.Conv2D(32, (3, 3), activation='relu', input_shape=(32, 32, 3)))\n",
        "model.add(layers.MaxPooling2D((2, 2)))\n",
        "model.add(layers.Conv2D(64, (3, 3), activation='relu'))\n",
        "model.add(layers.MaxPooling2D((2, 2)))\n",
        "model.add(layers.Conv2D(64, (3, 3), activation='relu'))\n",
        "model.add(layers.MaxPooling2D((2, 2)))\n",
        "model.add(layers.Flatten())\n",
        "model.add(layers.Dense(64, activation='relu'))\n",
        "model.add(layers.Dropout(0.3))\n",
        "model.add(layers.Dense(32, activation='relu'))\n",
        "model.add(layers.Dropout(0.25))\n",
        "model.add(layers.Dense(10, activation='softmax'))\n",
        "\n",
        "model.summary()"
      ]
    },
    {
      "cell_type": "markdown",
      "metadata": {
        "id": "oY3Yas0wrmZf"
      },
      "source": [
        "Above, you can see that the output of every Conv2D and MaxPooling2D layer is a 3D tensor of shape (height, width, channels). The width and height dimensions tend to shrink as you go deeper in the network. The number of output channels for each Conv2D layer is controlled by the first argument (e.g., 32 or 64). Typically, as the width and height shrink, you can afford (computationally) to add more output channels in each Conv2D layer.\n",
        "As you can see, our (4, 4, 64) outputs were flattened into vectors of shape (1024) before going through two Dense layers."
      ]
    },
    {
      "cell_type": "markdown",
      "metadata": {
        "id": "ei2Brtgc232J"
      },
      "source": [
        "## Compile and train the model"
      ]
    },
    {
      "cell_type": "code",
      "execution_count": 4,
      "metadata": {
        "colab": {
          "base_uri": "https://localhost:8080/"
        },
        "id": "5Slx3T9n24o6",
        "outputId": "119ec2c1-30b9-4aca-a26e-ab6317f3765a"
      },
      "outputs": [
        {
          "name": "stdout",
          "output_type": "stream",
          "text": [
            "Epoch 1/30\n",
            "313/313 [==============================] - 5s 11ms/step - loss: 1.9466 - accuracy: 0.2650 - val_loss: 1.6042 - val_accuracy: 0.4069\n",
            "Epoch 2/30\n",
            "313/313 [==============================] - 3s 9ms/step - loss: 1.6038 - accuracy: 0.4033 - val_loss: 1.4802 - val_accuracy: 0.4735\n",
            "Epoch 3/30\n",
            "313/313 [==============================] - 3s 9ms/step - loss: 1.4489 - accuracy: 0.4751 - val_loss: 1.2951 - val_accuracy: 0.5372\n",
            "Epoch 4/30\n",
            "313/313 [==============================] - 3s 9ms/step - loss: 1.3398 - accuracy: 0.5192 - val_loss: 1.2103 - val_accuracy: 0.5653\n",
            "Epoch 5/30\n",
            "313/313 [==============================] - 3s 9ms/step - loss: 1.2698 - accuracy: 0.5511 - val_loss: 1.1385 - val_accuracy: 0.5972\n",
            "Epoch 6/30\n",
            "313/313 [==============================] - 3s 9ms/step - loss: 1.2067 - accuracy: 0.5747 - val_loss: 1.1001 - val_accuracy: 0.6162\n",
            "Epoch 7/30\n",
            "313/313 [==============================] - 3s 9ms/step - loss: 1.1566 - accuracy: 0.5928 - val_loss: 1.0455 - val_accuracy: 0.6291\n",
            "Epoch 8/30\n",
            "313/313 [==============================] - 3s 9ms/step - loss: 1.1074 - accuracy: 0.6129 - val_loss: 1.0348 - val_accuracy: 0.6420\n",
            "Epoch 9/30\n",
            "313/313 [==============================] - 3s 11ms/step - loss: 1.0696 - accuracy: 0.6280 - val_loss: 1.0009 - val_accuracy: 0.6570\n",
            "Epoch 10/30\n",
            "313/313 [==============================] - 3s 9ms/step - loss: 1.0286 - accuracy: 0.6428 - val_loss: 0.9946 - val_accuracy: 0.6510\n",
            "Epoch 11/30\n",
            "313/313 [==============================] - 3s 10ms/step - loss: 0.9874 - accuracy: 0.6593 - val_loss: 0.9654 - val_accuracy: 0.6633\n",
            "Epoch 12/30\n",
            "313/313 [==============================] - 3s 9ms/step - loss: 0.9543 - accuracy: 0.6717 - val_loss: 0.9389 - val_accuracy: 0.6777\n",
            "Epoch 13/30\n",
            "313/313 [==============================] - 3s 9ms/step - loss: 0.9298 - accuracy: 0.6783 - val_loss: 0.9273 - val_accuracy: 0.6810\n",
            "Epoch 14/30\n",
            "313/313 [==============================] - 3s 10ms/step - loss: 0.9003 - accuracy: 0.6899 - val_loss: 0.9495 - val_accuracy: 0.6745\n",
            "Epoch 15/30\n",
            "313/313 [==============================] - 3s 10ms/step - loss: 0.8831 - accuracy: 0.6976 - val_loss: 0.9520 - val_accuracy: 0.6740\n",
            "Epoch 16/30\n",
            "313/313 [==============================] - 3s 9ms/step - loss: 0.8549 - accuracy: 0.7055 - val_loss: 0.9148 - val_accuracy: 0.6903\n",
            "Epoch 17/30\n",
            "313/313 [==============================] - 3s 10ms/step - loss: 0.8284 - accuracy: 0.7176 - val_loss: 0.8939 - val_accuracy: 0.6946\n",
            "Epoch 18/30\n",
            "313/313 [==============================] - 3s 9ms/step - loss: 0.8058 - accuracy: 0.7241 - val_loss: 0.9393 - val_accuracy: 0.6835\n",
            "Epoch 19/30\n",
            "313/313 [==============================] - 3s 9ms/step - loss: 0.7938 - accuracy: 0.7296 - val_loss: 0.9008 - val_accuracy: 0.7024\n",
            "Epoch 20/30\n",
            "313/313 [==============================] - 3s 9ms/step - loss: 0.7709 - accuracy: 0.7351 - val_loss: 0.9454 - val_accuracy: 0.6811\n",
            "Epoch 21/30\n",
            "313/313 [==============================] - 3s 9ms/step - loss: 0.7528 - accuracy: 0.7413 - val_loss: 0.8977 - val_accuracy: 0.7005\n",
            "Epoch 22/30\n",
            "313/313 [==============================] - 3s 10ms/step - loss: 0.7360 - accuracy: 0.7463 - val_loss: 0.9365 - val_accuracy: 0.6943\n",
            "313/313 - 1s - loss: 0.8825 - accuracy: 0.6915\n"
          ]
        }
      ],
      "source": [
        "\n",
        "comp = {\n",
        "\"optimizer\":'adam',\n",
        "\"loss\": tf.keras.losses.SparseCategoricalCrossentropy(),\n",
        "\"metrics\": ['accuracy']}\n",
        "\n",
        "model.compile(**comp)\n",
        "callbacks = [tf.keras.callbacks.EarlyStopping(monitor='val_loss', patience=5, restore_best_weights=True)]\n",
        "\n",
        "history = model.fit(train_images, train_labels, validation_split=0.2, epochs=30, batch_size=128, callbacks=callbacks)\n",
        "\n",
        "test_loss, test_acc = model.evaluate(test_images, test_labels, verbose=2)"
      ]
    },
    {
      "cell_type": "code",
      "execution_count": 5,
      "metadata": {
        "id": "qXneu-31q_dT"
      },
      "outputs": [],
      "source": [
        "model.save('CIFAR10_model.h5') "
      ]
    },
    {
      "cell_type": "markdown",
      "metadata": {
        "id": "NtV0lMtArsup"
      },
      "source": [
        "## Fine-tune pre-trained model with pruning\n",
        "You will apply pruning to the whole model and see this in the model summary.\n",
        "\n",
        "In this example, you prune the model with 30% dense pruning and 40% filter pruning."
      ]
    },
    {
      "cell_type": "code",
      "execution_count": 6,
      "metadata": {
        "colab": {
          "base_uri": "https://localhost:8080/"
        },
        "id": "VWLQMAO3q_db",
        "outputId": "ede18f6b-a318-497b-8cd6-f22e7bc8b62c"
      },
      "outputs": [
        {
          "name": "stdout",
          "output_type": "stream",
          "text": [
            "Finish with pruning\n",
            "Conv2D\n",
            "No Dense or Conv2D\n",
            "Conv2D\n",
            "No Dense or Conv2D\n",
            "Conv2D\n",
            "No Dense or Conv2D\n",
            "No Dense or Conv2D\n",
            "Dense\n",
            "No Dense or Conv2D\n",
            "Dense\n",
            "No Dense or Conv2D\n",
            "Before pruning:\n",
            "Model: \"sequential\"\n",
            "_________________________________________________________________\n",
            "Layer (type)                 Output Shape              Param #   \n",
            "=================================================================\n",
            "conv2d (Conv2D)              (None, 30, 30, 32)        896       \n",
            "_________________________________________________________________\n",
            "max_pooling2d (MaxPooling2D) (None, 15, 15, 32)        0         \n",
            "_________________________________________________________________\n",
            "conv2d_1 (Conv2D)            (None, 13, 13, 64)        18496     \n",
            "_________________________________________________________________\n",
            "max_pooling2d_1 (MaxPooling2 (None, 6, 6, 64)          0         \n",
            "_________________________________________________________________\n",
            "conv2d_2 (Conv2D)            (None, 4, 4, 64)          36928     \n",
            "_________________________________________________________________\n",
            "max_pooling2d_2 (MaxPooling2 (None, 2, 2, 64)          0         \n",
            "_________________________________________________________________\n",
            "flatten (Flatten)            (None, 256)               0         \n",
            "_________________________________________________________________\n",
            "dense (Dense)                (None, 64)                16448     \n",
            "_________________________________________________________________\n",
            "dropout (Dropout)            (None, 64)                0         \n",
            "_________________________________________________________________\n",
            "dense_1 (Dense)              (None, 32)                2080      \n",
            "_________________________________________________________________\n",
            "dropout_1 (Dropout)          (None, 32)                0         \n",
            "_________________________________________________________________\n",
            "dense_2 (Dense)              (None, 10)                330       \n",
            "=================================================================\n",
            "Total params: 75,178\n",
            "Trainable params: 75,178\n",
            "Non-trainable params: 0\n",
            "_________________________________________________________________\n",
            "After pruning:\n",
            "Model: \"sequential\"\n",
            "_________________________________________________________________\n",
            "Layer (type)                 Output Shape              Param #   \n",
            "=================================================================\n",
            "conv2d (Conv2D)              (None, 30, 30, 20)        560       \n",
            "_________________________________________________________________\n",
            "max_pooling2d (MaxPooling2D) (None, 15, 15, 20)        0         \n",
            "_________________________________________________________________\n",
            "conv2d_1 (Conv2D)            (None, 13, 13, 39)        7059      \n",
            "_________________________________________________________________\n",
            "max_pooling2d_1 (MaxPooling2 (None, 6, 6, 39)          0         \n",
            "_________________________________________________________________\n",
            "conv2d_2 (Conv2D)            (None, 4, 4, 39)          13728     \n",
            "_________________________________________________________________\n",
            "max_pooling2d_2 (MaxPooling2 (None, 2, 2, 39)          0         \n",
            "_________________________________________________________________\n",
            "flatten (Flatten)            (None, 156)               0         \n",
            "_________________________________________________________________\n",
            "dense (Dense)                (None, 45)                7065      \n",
            "_________________________________________________________________\n",
            "dropout (Dropout)            (None, 45)                0         \n",
            "_________________________________________________________________\n",
            "dense_1 (Dense)              (None, 23)                1058      \n",
            "_________________________________________________________________\n",
            "dropout_1 (Dropout)          (None, 23)                0         \n",
            "_________________________________________________________________\n",
            "dense_2 (Dense)              (None, 10)                240       \n",
            "=================================================================\n",
            "Total params: 29,710\n",
            "Trainable params: 29,710\n",
            "Non-trainable params: 0\n",
            "_________________________________________________________________\n",
            "Model built\n"
          ]
        },
        {
          "name": "stderr",
          "output_type": "stream",
          "text": [
            "d:\\Users\\Danie\\Desktop\\Hahn-Schickard\\Automatic-Structured-Pruning\\pruning.py:131: VisibleDeprecationWarning: Creating an ndarray from ragged nested sequences (which is a list-or-tuple of lists-or-tuples-or ndarrays with different lengths or shapes) is deprecated. If you meant to do this, you must specify 'dtype=object' when creating the ndarray\n",
            "  return (np.array(layer_types), np.array(layer_params), layer_output_shape,\n"
          ]
        }
      ],
      "source": [
        "dense_prune_rate=30\n",
        "conv_prune_rate=40\n",
        "prunemodel=pruning.prune_model('./CIFAR10_model.h5', dense_prune_rate, conv_prune_rate,'L2', num_classes=10)"
      ]
    },
    {
      "cell_type": "markdown",
      "metadata": {
        "id": "Kz2f5f-o_6mX"
      },
      "source": [
        "We see how we get less parameter in the pruned model."
      ]
    },
    {
      "cell_type": "markdown",
      "metadata": {
        "id": "eHSCkPz19Fwl"
      },
      "source": [
        "## Compile and re-train the model"
      ]
    },
    {
      "cell_type": "code",
      "execution_count": 7,
      "metadata": {},
      "outputs": [
        {
          "name": "stdout",
          "output_type": "stream",
          "text": [
            "Model: \"sequential\"\n",
            "_________________________________________________________________\n",
            "Layer (type)                 Output Shape              Param #   \n",
            "=================================================================\n",
            "conv2d (Conv2D)              (None, 30, 30, 20)        560       \n",
            "_________________________________________________________________\n",
            "max_pooling2d (MaxPooling2D) (None, 15, 15, 20)        0         \n",
            "_________________________________________________________________\n",
            "conv2d_1 (Conv2D)            (None, 13, 13, 39)        7059      \n",
            "_________________________________________________________________\n",
            "max_pooling2d_1 (MaxPooling2 (None, 6, 6, 39)          0         \n",
            "_________________________________________________________________\n",
            "conv2d_2 (Conv2D)            (None, 4, 4, 39)          13728     \n",
            "_________________________________________________________________\n",
            "max_pooling2d_2 (MaxPooling2 (None, 2, 2, 39)          0         \n",
            "_________________________________________________________________\n",
            "flatten (Flatten)            (None, 156)               0         \n",
            "_________________________________________________________________\n",
            "dense (Dense)                (None, 45)                7065      \n",
            "_________________________________________________________________\n",
            "dropout (Dropout)            (None, 45)                0         \n",
            "_________________________________________________________________\n",
            "dense_1 (Dense)              (None, 23)                1058      \n",
            "_________________________________________________________________\n",
            "dropout_1 (Dropout)          (None, 23)                0         \n",
            "_________________________________________________________________\n",
            "dense_2 (Dense)              (None, 10)                240       \n",
            "=================================================================\n",
            "Total params: 29,710\n",
            "Trainable params: 29,710\n",
            "Non-trainable params: 0\n",
            "_________________________________________________________________\n"
          ]
        }
      ],
      "source": [
        "prunemodel.summary()"
      ]
    },
    {
      "cell_type": "code",
      "execution_count": 8,
      "metadata": {
        "id": "jPAucXYJq_di"
      },
      "outputs": [
        {
          "name": "stdout",
          "output_type": "stream",
          "text": [
            "Epoch 1/10\n",
            "1250/1250 [==============================] - 8s 6ms/step - loss: 1.4179 - accuracy: 0.4998 - val_loss: 1.1750 - val_accuracy: 0.5883\n",
            "Epoch 2/10\n",
            "1250/1250 [==============================] - 7s 6ms/step - loss: 1.1694 - accuracy: 0.5997 - val_loss: 1.0824 - val_accuracy: 0.6200\n",
            "Epoch 3/10\n",
            "1250/1250 [==============================] - 7s 6ms/step - loss: 1.0957 - accuracy: 0.6254 - val_loss: 1.0273 - val_accuracy: 0.6477\n",
            "Epoch 4/10\n",
            "1250/1250 [==============================] - 7s 6ms/step - loss: 1.0391 - accuracy: 0.6468 - val_loss: 0.9706 - val_accuracy: 0.6674\n",
            "Epoch 5/10\n",
            "1250/1250 [==============================] - 7s 6ms/step - loss: 1.0001 - accuracy: 0.6605 - val_loss: 0.9864 - val_accuracy: 0.6621\n",
            "Epoch 6/10\n",
            "1250/1250 [==============================] - 7s 6ms/step - loss: 0.9784 - accuracy: 0.6700 - val_loss: 0.9403 - val_accuracy: 0.6750\n",
            "Epoch 7/10\n",
            "1250/1250 [==============================] - 7s 6ms/step - loss: 0.9502 - accuracy: 0.6804 - val_loss: 0.9211 - val_accuracy: 0.6853\n",
            "Epoch 8/10\n",
            "1250/1250 [==============================] - 8s 6ms/step - loss: 0.9338 - accuracy: 0.6810 - val_loss: 0.9472 - val_accuracy: 0.6785\n",
            "Epoch 9/10\n",
            "1250/1250 [==============================] - 8s 7ms/step - loss: 0.9158 - accuracy: 0.6886 - val_loss: 0.9356 - val_accuracy: 0.6872\n",
            "Epoch 10/10\n",
            "1250/1250 [==============================] - 8s 7ms/step - loss: 0.8951 - accuracy: 0.6959 - val_loss: 0.9263 - val_accuracy: 0.6838\n"
          ]
        }
      ],
      "source": [
        "comp = {\n",
        "\"optimizer\":'adam',\n",
        "\"loss\": tf.keras.losses.SparseCategoricalCrossentropy(),\n",
        "\"metrics\": ['accuracy']}\n",
        "\n",
        "prunemodel.compile(**comp)\n",
        "\n",
        "history = prunemodel.fit(train_images, train_labels, epochs=10, validation_split=0.2)"
      ]
    },
    {
      "cell_type": "markdown",
      "metadata": {
        "id": "0y_x_9EjAQbz"
      },
      "source": [
        "Compare both models"
      ]
    },
    {
      "cell_type": "code",
      "execution_count": 9,
      "metadata": {
        "id": "hw1IIf0CAReG"
      },
      "outputs": [
        {
          "name": "stdout",
          "output_type": "stream",
          "text": [
            "313/313 - 1s - loss: 0.8825 - accuracy: 0.6915\n",
            "313/313 - 1s - loss: 0.9339 - accuracy: 0.6808\n"
          ]
        }
      ],
      "source": [
        "test_loss, test_acc = model.evaluate(test_images,  test_labels, verbose=2)\n",
        "test_loss, test_acc = prunemodel.evaluate(test_images,  test_labels, verbose=2)"
      ]
    },
    {
      "cell_type": "markdown",
      "metadata": {
        "id": "vSgcm-WoclIF"
      },
      "source": [
        "# Prune a model to a maximum accuracy loss\n",
        "\n",
        "We define the arguments to compile the model. In this case, we only want to have an accuracy loss of 3%.\n",
        "In this example we have loaded the data directly from a TensorFlow dataset. Therefore, we do not have a defined dataloader (path or file). However, the structure of the training data is the same as the data we would read from a Python file. Therefore, we use a trick here and pass an existing FILE from the current folder as the dataloader path. This way the correct functions will be executed afterwards and no error will be issued."
      ]
    },
    {
      "cell_type": "code",
      "execution_count": 10,
      "metadata": {
        "id": "rUtd-GqJdJNx"
      },
      "outputs": [
        {
          "name": "stdout",
          "output_type": "stream",
          "text": [
            "313/313 [==============================] - 2s 4ms/step - loss: 0.7259 - accuracy: 0.7516\n",
            "Start model accuracy: 75.16000270843506%\n",
            "Next pruning factors: 5\n",
            "Finish with pruning\n",
            "Conv2D\n",
            "No Dense or Conv2D\n",
            "Conv2D\n",
            "No Dense or Conv2D\n",
            "Conv2D\n",
            "No Dense or Conv2D\n",
            "No Dense or Conv2D\n",
            "Dense\n",
            "No Dense or Conv2D\n",
            "Dense\n",
            "No Dense or Conv2D\n",
            "Before pruning:\n",
            "Model: \"sequential\"\n",
            "_________________________________________________________________\n",
            "Layer (type)                 Output Shape              Param #   \n",
            "=================================================================\n",
            "conv2d (Conv2D)              (None, 30, 30, 32)        896       \n",
            "_________________________________________________________________\n",
            "max_pooling2d (MaxPooling2D) (None, 15, 15, 32)        0         \n",
            "_________________________________________________________________\n",
            "conv2d_1 (Conv2D)            (None, 13, 13, 64)        18496     \n",
            "_________________________________________________________________\n",
            "max_pooling2d_1 (MaxPooling2 (None, 6, 6, 64)          0         \n",
            "_________________________________________________________________\n",
            "conv2d_2 (Conv2D)            (None, 4, 4, 64)          36928     \n",
            "_________________________________________________________________\n",
            "max_pooling2d_2 (MaxPooling2 (None, 2, 2, 64)          0         \n",
            "_________________________________________________________________\n",
            "flatten (Flatten)            (None, 256)               0         \n",
            "_________________________________________________________________\n",
            "dense (Dense)                (None, 64)                16448     \n",
            "_________________________________________________________________\n",
            "dropout (Dropout)            (None, 64)                0         \n",
            "_________________________________________________________________\n",
            "dense_1 (Dense)              (None, 32)                2080      \n",
            "_________________________________________________________________\n",
            "dropout_1 (Dropout)          (None, 32)                0         \n",
            "_________________________________________________________________\n",
            "dense_2 (Dense)              (None, 10)                330       \n",
            "=================================================================\n",
            "Total params: 75,178\n",
            "Trainable params: 75,178\n",
            "Non-trainable params: 0\n",
            "_________________________________________________________________\n",
            "After pruning:\n",
            "Model: \"sequential\"\n",
            "_________________________________________________________________\n",
            "Layer (type)                 Output Shape              Param #   \n",
            "=================================================================\n",
            "conv2d (Conv2D)              (None, 30, 30, 31)        868       \n",
            "_________________________________________________________________\n",
            "max_pooling2d (MaxPooling2D) (None, 15, 15, 31)        0         \n",
            "_________________________________________________________________\n",
            "conv2d_1 (Conv2D)            (None, 13, 13, 61)        17080     \n",
            "_________________________________________________________________\n",
            "max_pooling2d_1 (MaxPooling2 (None, 6, 6, 61)          0         \n",
            "_________________________________________________________________\n",
            "conv2d_2 (Conv2D)            (None, 4, 4, 61)          33550     \n",
            "_________________________________________________________________\n",
            "max_pooling2d_2 (MaxPooling2 (None, 2, 2, 61)          0         \n",
            "_________________________________________________________________\n",
            "flatten (Flatten)            (None, 244)               0         \n",
            "_________________________________________________________________\n",
            "dense (Dense)                (None, 61)                14945     \n",
            "_________________________________________________________________\n",
            "dropout (Dropout)            (None, 61)                0         \n",
            "_________________________________________________________________\n",
            "dense_1 (Dense)              (None, 31)                1922      \n",
            "_________________________________________________________________\n",
            "dropout_1 (Dropout)          (None, 31)                0         \n",
            "_________________________________________________________________\n",
            "dense_2 (Dense)              (None, 10)                320       \n",
            "=================================================================\n",
            "Total params: 68,685\n",
            "Trainable params: 68,685\n",
            "Non-trainable params: 0\n",
            "_________________________________________________________________\n",
            "Model built\n",
            "Epoch 1/10\n",
            "625/625 [==============================] - 5s 7ms/step - loss: 1.3773 - accuracy: 0.5055 - val_loss: 1.0167 - val_accuracy: 0.6460\n",
            "Epoch 2/10\n",
            "625/625 [==============================] - 4s 7ms/step - loss: 1.0854 - accuracy: 0.6245 - val_loss: 0.9315 - val_accuracy: 0.6772\n",
            "Epoch 3/10\n",
            "625/625 [==============================] - 5s 7ms/step - loss: 0.9946 - accuracy: 0.6583 - val_loss: 0.9035 - val_accuracy: 0.6899\n",
            "Epoch 4/10\n",
            "625/625 [==============================] - 5s 7ms/step - loss: 0.9438 - accuracy: 0.6741 - val_loss: 0.9158 - val_accuracy: 0.6866\n",
            "Epoch 5/10\n",
            "625/625 [==============================] - 4s 7ms/step - loss: 0.8890 - accuracy: 0.6958 - val_loss: 0.9094 - val_accuracy: 0.6901\n",
            "Epoch 6/10\n",
            "625/625 [==============================] - 5s 7ms/step - loss: 0.8633 - accuracy: 0.7028 - val_loss: 0.8508 - val_accuracy: 0.7083\n",
            "Epoch 7/10\n",
            "625/625 [==============================] - 5s 7ms/step - loss: 0.8294 - accuracy: 0.7179 - val_loss: 0.8550 - val_accuracy: 0.7074\n",
            "Epoch 8/10\n",
            "625/625 [==============================] - 4s 7ms/step - loss: 0.8073 - accuracy: 0.7249 - val_loss: 0.8539 - val_accuracy: 0.7128\n",
            "Epoch 9/10\n",
            "625/625 [==============================] - 5s 7ms/step - loss: 0.7745 - accuracy: 0.7368 - val_loss: 0.8477 - val_accuracy: 0.7154\n",
            "Epoch 10/10\n",
            "625/625 [==============================] - 5s 8ms/step - loss: 0.7555 - accuracy: 0.7421 - val_loss: 0.8615 - val_accuracy: 0.7114\n",
            "No pruning possible\n"
          ]
        }
      ],
      "source": [
        "comp = {\n",
        "  \"optimizer\": 'adam',\n",
        "  \"loss\": tf.keras.losses.SparseCategoricalCrossentropy(),\n",
        "  \"metrics\": 'accuracy'\n",
        "}\n",
        "\n",
        "automodel = pruning.pruning_for_acc('./CIFAR10_model.h5', train_images, train_labels, comp, pruning_acc=None,\n",
        "                                  max_acc_loss=3, num_classes=10, label_one_hot=False, data_loader_path=\"./CIFAR10_model.h5\")"
      ]
    },
    {
      "cell_type": "code",
      "execution_count": 11,
      "metadata": {},
      "outputs": [
        {
          "name": "stdout",
          "output_type": "stream",
          "text": [
            "Model: \"sequential\"\n",
            "_________________________________________________________________\n",
            "Layer (type)                 Output Shape              Param #   \n",
            "=================================================================\n",
            "conv2d (Conv2D)              (None, 30, 30, 32)        896       \n",
            "_________________________________________________________________\n",
            "max_pooling2d (MaxPooling2D) (None, 15, 15, 32)        0         \n",
            "_________________________________________________________________\n",
            "conv2d_1 (Conv2D)            (None, 13, 13, 64)        18496     \n",
            "_________________________________________________________________\n",
            "max_pooling2d_1 (MaxPooling2 (None, 6, 6, 64)          0         \n",
            "_________________________________________________________________\n",
            "conv2d_2 (Conv2D)            (None, 4, 4, 64)          36928     \n",
            "_________________________________________________________________\n",
            "max_pooling2d_2 (MaxPooling2 (None, 2, 2, 64)          0         \n",
            "_________________________________________________________________\n",
            "flatten (Flatten)            (None, 256)               0         \n",
            "_________________________________________________________________\n",
            "dense (Dense)                (None, 64)                16448     \n",
            "_________________________________________________________________\n",
            "dropout (Dropout)            (None, 64)                0         \n",
            "_________________________________________________________________\n",
            "dense_1 (Dense)              (None, 32)                2080      \n",
            "_________________________________________________________________\n",
            "dropout_1 (Dropout)          (None, 32)                0         \n",
            "_________________________________________________________________\n",
            "dense_2 (Dense)              (None, 10)                330       \n",
            "=================================================================\n",
            "Total params: 75,178\n",
            "Trainable params: 75,178\n",
            "Non-trainable params: 0\n",
            "_________________________________________________________________\n"
          ]
        }
      ],
      "source": [
        "automodel.summary()"
      ]
    },
    {
      "cell_type": "markdown",
      "metadata": {},
      "source": [
        "Compare both models"
      ]
    },
    {
      "cell_type": "code",
      "execution_count": 12,
      "metadata": {},
      "outputs": [
        {
          "name": "stdout",
          "output_type": "stream",
          "text": [
            "313/313 - 1s - loss: 0.8825 - accuracy: 0.6915\n",
            "313/313 - 1s - loss: 0.8825 - accuracy: 0.6915\n"
          ]
        }
      ],
      "source": [
        "test_loss, test_acc = model.evaluate(test_images,  test_labels, verbose=2)\n",
        "test_loss, test_acc = automodel.evaluate(test_images,  test_labels, verbose=2)"
      ]
    }
  ],
  "metadata": {
    "colab": {
      "collapsed_sections": [],
      "name": "How_to_use_the_Framework.ipynb",
      "provenance": []
    },
    "kernelspec": {
      "display_name": "Python 3",
      "language": "python",
      "name": "python3"
    },
    "language_info": {
      "codemirror_mode": {
        "name": "ipython",
        "version": 3
      },
      "file_extension": ".py",
      "mimetype": "text/x-python",
      "name": "python",
      "nbconvert_exporter": "python",
      "pygments_lexer": "ipython3",
      "version": "3.8.12"
    }
  },
  "nbformat": 4,
  "nbformat_minor": 0
}
