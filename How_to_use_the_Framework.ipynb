{
  "cells": [
    {
      "cell_type": "markdown",
      "metadata": {
        "id": "nYHb1ZgWsRii"
      },
      "source": [
        "# Pruning with our automatic strutured Pruning framework\n",
        "Welcome to an end-to-end example for magnitude-based weight pruning\n",
        "\n",
        "**Summary**\n",
        "\n",
        "In this tutorial, you will:\n",
        "\n",
        "* Train a tf.keras model for CIFAR10 from scratch.\n",
        "* Fine tune the model by applying the pruning Framework and see the accuracy.\n",
        "\n",
        "\n",
        "\n"
      ]
    },
    {
      "cell_type": "code",
      "execution_count": 1,
      "metadata": {
        "colab": {
          "base_uri": "https://localhost:8080/"
        },
        "id": "f_QYhrsRq_dL",
        "outputId": "459d5eeb-0c25-4d9c-8ccf-fec265a9b909"
      },
      "outputs": [
        {
          "name": "stderr",
          "output_type": "stream",
          "text": [
            "Cloning into 'Automatic-Structured-Pruning'...\n"
          ]
        },
        {
          "name": "stdout",
          "output_type": "stream",
          "text": [
            "$CWD\n"
          ]
        },
        {
          "name": "stderr",
          "output_type": "stream",
          "text": [
            "Der Befehl \"cp\" ist entweder falsch geschrieben oder\n",
            "konnte nicht gefunden werden.\n"
          ]
        }
      ],
      "source": [
        "!git clone https://github.com/Hahn-Schickard/Automatic-Structured-Pruning\n",
        "!echo $CWD\n",
        "!cp -rf /content/Automatic-Structured-Pruning/* /content/"
      ]
    },
    {
      "cell_type": "code",
      "execution_count": 1,
      "metadata": {},
      "outputs": [],
      "source": [
        "import pruning"
      ]
    },
    {
      "cell_type": "markdown",
      "metadata": {
        "id": "P59sTXkZrcUB"
      },
      "source": [
        "## Train a model for CIFAR10 without pruning\n",
        "Download and prepare the CIFAR10 dataset.\n",
        "The CIFAR10 dataset contains 60,000 color images in 10 classes, with 6,000 images in each class. The dataset is divided into 50,000 training images and 10,000 testing images. The classes are mutually exclusive and there is no overlap between them.\n",
        "\n",
        "Create the convolutional base\n",
        "The 6 lines of code below define the convolutional base using a common pattern: a stack of Conv2D and MaxPooling2D layers.\n",
        "\n",
        "As input, a CNN takes tensors of shape (image_height, image_width, color_channels), ignoring the batch size. If you are new to these dimensions, color_channels refers to (R,G,B). In this example, you will configure our CNN to process inputs of shape (32, 32, 3), which is the format of CIFAR images. You can do this by passing the argument input_shape to our first layer.\n",
        "\n",
        "To complete our model, you will feed the last output tensor from the convolutional base (of shape (4, 4, 64)) into one or more Dense layers to perform classification. Dense layers take vectors as input (which are 1D), while the current output is a 3D tensor. First, you will flatten (or unroll) the 3D output to 1D, then add one or more Dense layers on top. CIFAR has 10 output classes, so you use a final Dense layer with 10 outputs and a softmax activation."
      ]
    },
    {
      "cell_type": "code",
      "execution_count": 2,
      "metadata": {
        "colab": {
          "base_uri": "https://localhost:8080/"
        },
        "id": "lOE5QdnNq_dQ",
        "outputId": "1f6861d6-952c-464b-be78-c274a4d189dc"
      },
      "outputs": [
        {
          "name": "stdout",
          "output_type": "stream",
          "text": [
            "Model: \"sequential\"\n",
            "_________________________________________________________________\n",
            "Layer (type)                 Output Shape              Param #   \n",
            "=================================================================\n",
            "conv2d (Conv2D)              (None, 30, 30, 32)        896       \n",
            "_________________________________________________________________\n",
            "max_pooling2d (MaxPooling2D) (None, 15, 15, 32)        0         \n",
            "_________________________________________________________________\n",
            "conv2d_1 (Conv2D)            (None, 13, 13, 64)        18496     \n",
            "_________________________________________________________________\n",
            "max_pooling2d_1 (MaxPooling2 (None, 6, 6, 64)          0         \n",
            "_________________________________________________________________\n",
            "conv2d_2 (Conv2D)            (None, 4, 4, 64)          36928     \n",
            "_________________________________________________________________\n",
            "flatten (Flatten)            (None, 1024)              0         \n",
            "_________________________________________________________________\n",
            "dense (Dense)                (None, 64)                65600     \n",
            "_________________________________________________________________\n",
            "dense_1 (Dense)              (None, 64)                4160      \n",
            "_________________________________________________________________\n",
            "dense_2 (Dense)              (None, 10)                650       \n",
            "=================================================================\n",
            "Total params: 126,730\n",
            "Trainable params: 126,730\n",
            "Non-trainable params: 0\n",
            "_________________________________________________________________\n"
          ]
        }
      ],
      "source": [
        "import tensorflow as tf\n",
        "\n",
        "from tensorflow.keras import datasets, layers, models\n",
        "#import matplotlib.pyplot as plt\n",
        "(train_images, train_labels), (test_images, test_labels) = datasets.cifar10.load_data()\n",
        "\n",
        "# Normalize pixel values to be between 0 and 1\n",
        "train_images, test_images = train_images / 255.0, test_images / 255.0\n",
        "model = models.Sequential()\n",
        "model.add(layers.Conv2D(32, (3, 3), activation='relu', input_shape=(32, 32, 3)))\n",
        "model.add(layers.MaxPooling2D((2, 2)))\n",
        "model.add(layers.Conv2D(64, (3, 3), activation='relu'))\n",
        "model.add(layers.MaxPooling2D((2, 2)))\n",
        "model.add(layers.Conv2D(64, (3, 3), activation='relu'))\n",
        "model.add(layers.Flatten())\n",
        "model.add(layers.Dense(64, activation='relu'))\n",
        "model.add(layers.Dense(64, activation='relu'))\n",
        "model.add(layers.Dense(10))\n",
        "\n",
        "model.summary()\n",
        "\n"
      ]
    },
    {
      "cell_type": "markdown",
      "metadata": {
        "id": "oY3Yas0wrmZf"
      },
      "source": [
        "Above, you can see that the output of every Conv2D and MaxPooling2D layer is a 3D tensor of shape (height, width, channels). The width and height dimensions tend to shrink as you go deeper in the network. The number of output channels for each Conv2D layer is controlled by the first argument (e.g., 32 or 64). Typically, as the width and height shrink, you can afford (computationally) to add more output channels in each Conv2D layer.\n",
        "As you can see, our (4, 4, 64) outputs were flattened into vectors of shape (1024) before going through two Dense layers.\n"
      ]
    },
    {
      "cell_type": "markdown",
      "metadata": {
        "id": "ei2Brtgc232J"
      },
      "source": [
        "## Compile and train the model"
      ]
    },
    {
      "cell_type": "code",
      "execution_count": 3,
      "metadata": {
        "colab": {
          "base_uri": "https://localhost:8080/"
        },
        "id": "5Slx3T9n24o6",
        "outputId": "119ec2c1-30b9-4aca-a26e-ab6317f3765a"
      },
      "outputs": [
        {
          "name": "stdout",
          "output_type": "stream",
          "text": [
            "Epoch 1/10\n",
            "1563/1563 [==============================] - 11s 6ms/step - loss: 1.5520 - accuracy: 0.4282 - val_loss: 1.3089 - val_accuracy: 0.5187\n",
            "Epoch 2/10\n",
            "1563/1563 [==============================] - 11s 7ms/step - loss: 1.1599 - accuracy: 0.5853 - val_loss: 1.0514 - val_accuracy: 0.6306\n",
            "Epoch 3/10\n",
            "1563/1563 [==============================] - 10s 6ms/step - loss: 0.9992 - accuracy: 0.6476 - val_loss: 1.0259 - val_accuracy: 0.6350\n",
            "Epoch 4/10\n",
            "1563/1563 [==============================] - 11s 7ms/step - loss: 0.8927 - accuracy: 0.6848 - val_loss: 0.9063 - val_accuracy: 0.6844\n",
            "Epoch 5/10\n",
            "1563/1563 [==============================] - 11s 7ms/step - loss: 0.8160 - accuracy: 0.7139 - val_loss: 0.9385 - val_accuracy: 0.6690\n",
            "Epoch 6/10\n",
            "1563/1563 [==============================] - 9s 6ms/step - loss: 0.7574 - accuracy: 0.7343 - val_loss: 0.8771 - val_accuracy: 0.6981\n",
            "Epoch 7/10\n",
            "1563/1563 [==============================] - 10s 6ms/step - loss: 0.7018 - accuracy: 0.7553 - val_loss: 0.8364 - val_accuracy: 0.7175\n",
            "Epoch 8/10\n",
            "1563/1563 [==============================] - 9s 6ms/step - loss: 0.6600 - accuracy: 0.7669 - val_loss: 0.8129 - val_accuracy: 0.7249\n",
            "Epoch 9/10\n",
            "1563/1563 [==============================] - 9s 6ms/step - loss: 0.6179 - accuracy: 0.7841 - val_loss: 0.8607 - val_accuracy: 0.7141\n",
            "Epoch 10/10\n",
            "1563/1563 [==============================] - 10s 6ms/step - loss: 0.5800 - accuracy: 0.7964 - val_loss: 0.8415 - val_accuracy: 0.7196\n",
            "313/313 - 1s - loss: 0.8415 - accuracy: 0.7196\n"
          ]
        }
      ],
      "source": [
        "\n",
        "comp = {\n",
        "        \"optimizer\":'adam',\n",
        "        \"loss\": tf.keras.losses.SparseCategoricalCrossentropy(from_logits=True),\n",
        "        \"metrics\": ['accuracy']}\n",
        "\n",
        "model.compile(**comp)\n",
        "\n",
        "history = model.fit(train_images, train_labels, epochs=10, \n",
        "                    validation_data=(test_images, test_labels))\n",
        "\n",
        "test_loss, test_acc = model.evaluate(test_images,  test_labels, verbose=2)"
      ]
    },
    {
      "cell_type": "code",
      "execution_count": 4,
      "metadata": {
        "id": "qXneu-31q_dT"
      },
      "outputs": [],
      "source": [
        "model.save('my_model.h5') "
      ]
    },
    {
      "cell_type": "markdown",
      "metadata": {
        "id": "NtV0lMtArsup"
      },
      "source": [
        "## Fine-tune pre-trained model with pruning\n",
        "You will apply pruning to the whole model and see this in the model summary.\n",
        "\n",
        "In this example, you prune the model with 10% Dense pruning and 10% Filter pruning.\n",
        "\n"
      ]
    },
    {
      "cell_type": "code",
      "execution_count": 7,
      "metadata": {
        "colab": {
          "base_uri": "https://localhost:8080/"
        },
        "id": "VWLQMAO3q_db",
        "outputId": "ede18f6b-a318-497b-8cd6-f22e7bc8b62c"
      },
      "outputs": [
        {
          "name": "stdout",
          "output_type": "stream",
          "text": [
            "Finish with pruning\n",
            "Conv2D\n",
            "No Dense or Conv2D\n",
            "Conv2D\n",
            "No Dense or Conv2D\n",
            "Conv2D\n",
            "No Dense or Conv2D\n",
            "Dense\n",
            "Dense\n",
            "Before pruning:\n",
            "Model: \"sequential\"\n",
            "_________________________________________________________________\n",
            "Layer (type)                 Output Shape              Param #   \n",
            "=================================================================\n",
            "conv2d (Conv2D)              (None, 30, 30, 32)        896       \n",
            "_________________________________________________________________\n",
            "max_pooling2d (MaxPooling2D) (None, 15, 15, 32)        0         \n",
            "_________________________________________________________________\n",
            "conv2d_1 (Conv2D)            (None, 13, 13, 64)        18496     \n",
            "_________________________________________________________________\n",
            "max_pooling2d_1 (MaxPooling2 (None, 6, 6, 64)          0         \n",
            "_________________________________________________________________\n",
            "conv2d_2 (Conv2D)            (None, 4, 4, 64)          36928     \n",
            "_________________________________________________________________\n",
            "flatten (Flatten)            (None, 1024)              0         \n",
            "_________________________________________________________________\n",
            "dense (Dense)                (None, 64)                65600     \n",
            "_________________________________________________________________\n",
            "dense_1 (Dense)              (None, 64)                4160      \n",
            "_________________________________________________________________\n",
            "dense_2 (Dense)              (None, 10)                650       \n",
            "=================================================================\n",
            "Total params: 126,730\n",
            "Trainable params: 126,730\n",
            "Non-trainable params: 0\n",
            "_________________________________________________________________\n",
            "After pruning:\n",
            "Model: \"sequential\"\n",
            "_________________________________________________________________\n",
            "Layer (type)                 Output Shape              Param #   \n",
            "=================================================================\n",
            "conv2d (Conv2D)              (None, 30, 30, 16)        448       \n",
            "_________________________________________________________________\n",
            "max_pooling2d (MaxPooling2D) (None, 15, 15, 16)        0         \n",
            "_________________________________________________________________\n",
            "conv2d_1 (Conv2D)            (None, 13, 13, 32)        4640      \n",
            "_________________________________________________________________\n",
            "max_pooling2d_1 (MaxPooling2 (None, 6, 6, 32)          0         \n",
            "_________________________________________________________________\n",
            "conv2d_2 (Conv2D)            (None, 4, 4, 32)          9248      \n",
            "_________________________________________________________________\n",
            "flatten (Flatten)            (None, 512)               0         \n",
            "_________________________________________________________________\n",
            "dense (Dense)                (None, 32)                16416     \n",
            "_________________________________________________________________\n",
            "dense_1 (Dense)              (None, 32)                1056      \n",
            "_________________________________________________________________\n",
            "dense_2 (Dense)              (None, 10)                330       \n",
            "=================================================================\n",
            "Total params: 32,138\n",
            "Trainable params: 32,138\n",
            "Non-trainable params: 0\n",
            "_________________________________________________________________\n",
            "Model built\n"
          ]
        },
        {
          "name": "stderr",
          "output_type": "stream",
          "text": [
            "d:\\Users\\Danie\\Desktop\\Hahn-Schickard\\Automatic-Structured-Pruning\\pruning.py:130: VisibleDeprecationWarning: Creating an ndarray from ragged nested sequences (which is a list-or-tuple of lists-or-tuples-or ndarrays with different lengths or shapes) is deprecated. If you meant to do this, you must specify 'dtype=object' when creating the ndarray\n",
            "  return (np.array(layer_types), np.array(layer_params), layer_output_shape,\n"
          ]
        }
      ],
      "source": [
        "dense_prune_rate=50\n",
        "conv_prune_rate=50\n",
        "prunemodel=pruning.prune_model('./my_model.h5',dense_prune_rate, conv_prune_rate,'L2', num_classes=10)"
      ]
    },
    {
      "cell_type": "markdown",
      "metadata": {
        "id": "Kz2f5f-o_6mX"
      },
      "source": [
        "We see how we get less Parameter in the pruned Model"
      ]
    },
    {
      "cell_type": "markdown",
      "metadata": {
        "id": "eHSCkPz19Fwl"
      },
      "source": [
        "## Compile and re-train the model"
      ]
    },
    {
      "cell_type": "code",
      "execution_count": 9,
      "metadata": {},
      "outputs": [
        {
          "name": "stdout",
          "output_type": "stream",
          "text": [
            "Model: \"sequential\"\n",
            "_________________________________________________________________\n",
            "Layer (type)                 Output Shape              Param #   \n",
            "=================================================================\n",
            "conv2d (Conv2D)              (None, 30, 30, 16)        448       \n",
            "_________________________________________________________________\n",
            "max_pooling2d (MaxPooling2D) (None, 15, 15, 16)        0         \n",
            "_________________________________________________________________\n",
            "conv2d_1 (Conv2D)            (None, 13, 13, 32)        4640      \n",
            "_________________________________________________________________\n",
            "max_pooling2d_1 (MaxPooling2 (None, 6, 6, 32)          0         \n",
            "_________________________________________________________________\n",
            "conv2d_2 (Conv2D)            (None, 4, 4, 32)          9248      \n",
            "_________________________________________________________________\n",
            "flatten (Flatten)            (None, 512)               0         \n",
            "_________________________________________________________________\n",
            "dense (Dense)                (None, 32)                16416     \n",
            "_________________________________________________________________\n",
            "dense_1 (Dense)              (None, 32)                1056      \n",
            "_________________________________________________________________\n",
            "dense_2 (Dense)              (None, 10)                330       \n",
            "=================================================================\n",
            "Total params: 32,138\n",
            "Trainable params: 32,138\n",
            "Non-trainable params: 0\n",
            "_________________________________________________________________\n"
          ]
        }
      ],
      "source": [
        "prunemodel.summary()"
      ]
    },
    {
      "cell_type": "code",
      "execution_count": 8,
      "metadata": {
        "id": "jPAucXYJq_di"
      },
      "outputs": [
        {
          "name": "stdout",
          "output_type": "stream",
          "text": [
            "Epoch 1/10\n",
            "1563/1563 [==============================] - 12s 7ms/step - loss: 1.2473 - accuracy: 0.5504 - val_loss: 1.0301 - val_accuracy: 0.6322\n",
            "Epoch 2/10\n",
            "1563/1563 [==============================] - 10s 7ms/step - loss: 0.9317 - accuracy: 0.6696 - val_loss: 0.9406 - val_accuracy: 0.6702\n",
            "Epoch 3/10\n",
            "1563/1563 [==============================] - 11s 7ms/step - loss: 0.8491 - accuracy: 0.7009 - val_loss: 0.9222 - val_accuracy: 0.6775\n",
            "Epoch 4/10\n",
            "1563/1563 [==============================] - 10s 6ms/step - loss: 0.7947 - accuracy: 0.7176 - val_loss: 0.9024 - val_accuracy: 0.6827\n",
            "Epoch 5/10\n",
            "1563/1563 [==============================] - 10s 6ms/step - loss: 0.7585 - accuracy: 0.7299 - val_loss: 0.8750 - val_accuracy: 0.6953\n",
            "Epoch 6/10\n",
            "1563/1563 [==============================] - 11s 7ms/step - loss: 0.7322 - accuracy: 0.7413 - val_loss: 0.9155 - val_accuracy: 0.6860\n",
            "Epoch 7/10\n",
            "1563/1563 [==============================] - 11s 7ms/step - loss: 0.7002 - accuracy: 0.7531 - val_loss: 0.8843 - val_accuracy: 0.6968\n",
            "Epoch 8/10\n",
            "1563/1563 [==============================] - 12s 8ms/step - loss: 0.6750 - accuracy: 0.7615 - val_loss: 0.8882 - val_accuracy: 0.6985\n",
            "Epoch 9/10\n",
            "1563/1563 [==============================] - 11s 7ms/step - loss: 0.6536 - accuracy: 0.7694 - val_loss: 0.8908 - val_accuracy: 0.6983\n",
            "Epoch 10/10\n",
            "1563/1563 [==============================] - 11s 7ms/step - loss: 0.6370 - accuracy: 0.7775 - val_loss: 0.8753 - val_accuracy: 0.7052\n",
            "313/313 - 1s - loss: 0.8753 - accuracy: 0.7052\n"
          ]
        }
      ],
      "source": [
        "compile = {\n",
        "  \"optimizer\": 'adam',\n",
        "  \"loss\": tf.keras.losses.SparseCategoricalCrossentropy(from_logits=True),\n",
        "  \"metrics\": 'accuracy'\n",
        "}\n",
        "\n",
        "prunemodel.compile(**compile,)\n",
        "\n",
        "history = prunemodel.fit(train_images, train_labels, epochs=10, \n",
        "                    validation_data=(test_images, test_labels))\n",
        "\n",
        "test_loss, test_acc = prunemodel.evaluate(test_images,  test_labels, verbose=2)"
      ]
    },
    {
      "cell_type": "markdown",
      "metadata": {
        "id": "0y_x_9EjAQbz"
      },
      "source": [
        "Compare both models"
      ]
    },
    {
      "cell_type": "code",
      "execution_count": 10,
      "metadata": {
        "id": "hw1IIf0CAReG"
      },
      "outputs": [
        {
          "name": "stdout",
          "output_type": "stream",
          "text": [
            "313/313 - 1s - loss: 0.8887 - accuracy: 0.7037\n",
            "313/313 - 1s - loss: 0.8753 - accuracy: 0.7052\n"
          ]
        }
      ],
      "source": [
        "test_loss, test_acc = model.evaluate(test_images,  test_labels, verbose=2)\n",
        "test_loss, test_acc = prunemodel.evaluate(test_images,  test_labels, verbose=2)"
      ]
    },
    {
      "cell_type": "markdown",
      "metadata": {
        "id": "vSgcm-WoclIF"
      },
      "source": [
        "# Prune a model to a maximum accuracy loss\n",
        "\n",
        "We define the compile arguments and the arguments fpr the Model.fit() function. "
      ]
    },
    {
      "cell_type": "code",
      "execution_count": 14,
      "metadata": {
        "id": "rUtd-GqJdJNx"
      },
      "outputs": [],
      "source": [
        "# comp = {\n",
        "#   \"optimizer\": 'adam',\n",
        "#   \"loss\": tf.keras.losses.SparseCategoricalCrossentropy(from_logits=True),\n",
        "#   \"metrics\": 'accuracy'\n",
        "# }\n",
        "\n",
        "\n",
        "\n",
        "# automodel=pruning.pruning_for_acc('./my_model.h5', train_images, train_labels, comp, pruning_acc=None,\n",
        "#                                   max_acc_loss=3, num_classes=10, label_one_hot=False, data_loader_path=\"./my_model.h5\")"
      ]
    }
  ],
  "metadata": {
    "colab": {
      "collapsed_sections": [],
      "name": "How_to_use_the_Framework.ipynb",
      "provenance": []
    },
    "kernelspec": {
      "display_name": "Python 3",
      "language": "python",
      "name": "python3"
    },
    "language_info": {
      "codemirror_mode": {
        "name": "ipython",
        "version": 3
      },
      "file_extension": ".py",
      "mimetype": "text/x-python",
      "name": "python",
      "nbconvert_exporter": "python",
      "pygments_lexer": "ipython3",
      "version": "3.8.12"
    }
  },
  "nbformat": 4,
  "nbformat_minor": 0
}
