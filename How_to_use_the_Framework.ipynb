{
  "nbformat": 4,
  "nbformat_minor": 0,
  "metadata": {
    "kernelspec": {
      "display_name": "Python 3",
      "language": "python",
      "name": "python3"
    },
    "language_info": {
      "codemirror_mode": {
        "name": "ipython",
        "version": 3
      },
      "file_extension": ".py",
      "mimetype": "text/x-python",
      "name": "python",
      "nbconvert_exporter": "python",
      "pygments_lexer": "ipython3",
      "version": "3.8.5"
    },
    "colab": {
      "name": "How_to_use_the_Framework.ipynb",
      "provenance": [],
      "collapsed_sections": [],
      "toc_visible": true
    }
  },
  "cells": [
    {
      "cell_type": "markdown",
      "metadata": {
        "id": "nYHb1ZgWsRii"
      },
      "source": [
        "# Pruning with our automatic strutured Pruning framework\n",
        "Welcome to an end-to-end example for magnitude-based weight pruning\n",
        "\n",
        "**Summary**\n",
        "\n",
        "In this tutorial, you will:\n",
        "\n",
        "* Train a tf.keras model for Cifa10 from scratch.\n",
        "* Fine tune the model by applying the pruning Framework and see the accuracy.\n",
        "\n",
        "\n",
        "\n"
      ]
    },
    {
      "cell_type": "code",
      "metadata": {
        "id": "f_QYhrsRq_dL",
        "outputId": "ef8c1db1-c61d-4df1-add5-2c65f0013de5",
        "colab": {
          "base_uri": "https://localhost:8080/"
        }
      },
      "source": [
        "!git clone https://github.com/Hahn-Schickard/Automatic-Structured-Pruning\n",
        "!echo $CWD\n",
        "!cp -rf /content/Automatic-Structured-Pruning/* /content/\n",
        "\n",
        "#The Framework work with Tensorflow 2.1-2.3.1\n",
        "import Pruning"
      ],
      "execution_count": 1,
      "outputs": [
        {
          "output_type": "stream",
          "text": [
            "Cloning into 'Automatic-Structured-Pruning'...\n",
            "remote: Enumerating objects: 16, done.\u001b[K\n",
            "remote: Counting objects: 100% (16/16), done.\u001b[K\n",
            "remote: Compressing objects: 100% (14/14), done.\u001b[K\n",
            "remote: Total 16 (delta 3), reused 0 (delta 0), pack-reused 0\u001b[K\n",
            "Unpacking objects: 100% (16/16), done.\n",
            "\n",
            "2.3.0\n"
          ],
          "name": "stdout"
        }
      ]
    },
    {
      "cell_type": "markdown",
      "metadata": {
        "id": "P59sTXkZrcUB"
      },
      "source": [
        "# Train a model for CIFA10 without pruning\n",
        "Download and prepare the CIFAR10 dataset\n",
        "The CIFAR10 dataset contains 60,000 color images in 10 classes, with 6,000 images in each class. The dataset is divided into 50,000 training images and 10,000 testing images. The classes are mutually exclusive and there is no overlap between them.\n",
        "\n",
        "Create the convolutional base\n",
        "The 6 lines of code below define the convolutional base using a common pattern: a stack of Conv2D and MaxPooling2D layers.\n",
        "\n",
        "As input, a CNN takes tensors of shape (image_height, image_width, color_channels), ignoring the batch size. If you are new to these dimensions, color_channels refers to (R,G,B). In this example, you will configure our CNN to process inputs of shape (32, 32, 3), which is the format of CIFAR images. You can do this by passing the argument input_shape to our first layer.\n",
        "\n",
        "To complete our model, you will feed the last output tensor from the convolutional base (of shape (4, 4, 64)) into one or more Dense layers to perform classification. Dense layers take vectors as input (which are 1D), while the current output is a 3D tensor. First, you will flatten (or unroll) the 3D output to 1D, then add one or more Dense layers on top. CIFAR has 10 output classes, so you use a final Dense layer with 10 outputs and a softmax activation."
      ]
    },
    {
      "cell_type": "code",
      "metadata": {
        "id": "lOE5QdnNq_dQ",
        "outputId": "366735b4-fd4b-4ba6-f7fc-c5e6282cd33e",
        "colab": {
          "base_uri": "https://localhost:8080/"
        }
      },
      "source": [
        "import tensorflow as tf\n",
        "\n",
        "from tensorflow.keras import datasets, layers, models\n",
        "#import matplotlib.pyplot as plt\n",
        "(train_images, train_labels), (test_images, test_labels) = datasets.cifar10.load_data()\n",
        "\n",
        "# Normalize pixel values to be between 0 and 1\n",
        "train_images, test_images = train_images / 255.0, test_images / 255.0\n",
        "model = models.Sequential()\n",
        "model.add(layers.Conv2D(32, (3, 3), activation='relu', input_shape=(32, 32, 3)))\n",
        "model.add(layers.MaxPooling2D((2, 2)))\n",
        "model.add(layers.Conv2D(64, (3, 3), activation='relu'))\n",
        "model.add(layers.MaxPooling2D((2, 2)))\n",
        "model.add(layers.Conv2D(64, (3, 3), activation='relu'))\n",
        "model.add(layers.Flatten())\n",
        "model.add(layers.Dense(64, activation='relu'))\n",
        "model.add(layers.Dense(64, activation='relu'))\n",
        "model.add(layers.Dense(10))\n",
        "\n",
        "model.summary()\n",
        "\n"
      ],
      "execution_count": 2,
      "outputs": [
        {
          "output_type": "stream",
          "text": [
            "Downloading data from https://www.cs.toronto.edu/~kriz/cifar-10-python.tar.gz\n",
            "170500096/170498071 [==============================] - 3s 0us/step\n",
            "Model: \"sequential\"\n",
            "_________________________________________________________________\n",
            "Layer (type)                 Output Shape              Param #   \n",
            "=================================================================\n",
            "conv2d (Conv2D)              (None, 30, 30, 32)        896       \n",
            "_________________________________________________________________\n",
            "max_pooling2d (MaxPooling2D) (None, 15, 15, 32)        0         \n",
            "_________________________________________________________________\n",
            "conv2d_1 (Conv2D)            (None, 13, 13, 64)        18496     \n",
            "_________________________________________________________________\n",
            "max_pooling2d_1 (MaxPooling2 (None, 6, 6, 64)          0         \n",
            "_________________________________________________________________\n",
            "conv2d_2 (Conv2D)            (None, 4, 4, 64)          36928     \n",
            "_________________________________________________________________\n",
            "flatten (Flatten)            (None, 1024)              0         \n",
            "_________________________________________________________________\n",
            "dense (Dense)                (None, 64)                65600     \n",
            "_________________________________________________________________\n",
            "dense_1 (Dense)              (None, 64)                4160      \n",
            "_________________________________________________________________\n",
            "dense_2 (Dense)              (None, 10)                650       \n",
            "=================================================================\n",
            "Total params: 126,730\n",
            "Trainable params: 126,730\n",
            "Non-trainable params: 0\n",
            "_________________________________________________________________\n"
          ],
          "name": "stdout"
        }
      ]
    },
    {
      "cell_type": "markdown",
      "metadata": {
        "id": "oY3Yas0wrmZf"
      },
      "source": [
        "Above, you can see that the output of every Conv2D and MaxPooling2D layer is a 3D tensor of shape (height, width, channels). The width and height dimensions tend to shrink as you go deeper in the network. The number of output channels for each Conv2D layer is controlled by the first argument (e.g., 32 or 64). Typically, as the width and height shrink, you can afford (computationally) to add more output channels in each Conv2D layer.\n",
        "As you can see, our (4, 4, 64) outputs were flattened into vectors of shape (1024) before going through two Dense layers.\n"
      ]
    },
    {
      "cell_type": "markdown",
      "metadata": {
        "id": "ei2Brtgc232J"
      },
      "source": [
        "# Compile and train the model"
      ]
    },
    {
      "cell_type": "code",
      "metadata": {
        "id": "5Slx3T9n24o6",
        "outputId": "65f3fb71-a6bd-4776-a564-02fe38aac59c",
        "colab": {
          "base_uri": "https://localhost:8080/"
        }
      },
      "source": [
        "model.compile(optimizer='adam',\n",
        "              loss=tf.keras.losses.SparseCategoricalCrossentropy(from_logits=True),\n",
        "              metrics=['accuracy'])\n",
        "\n",
        "history = model.fit(train_images, train_labels, epochs=10, \n",
        "                    validation_data=(test_images, test_labels))\n",
        "\n",
        "test_loss, test_acc = model.evaluate(test_images,  test_labels, verbose=2)"
      ],
      "execution_count": 3,
      "outputs": [
        {
          "output_type": "stream",
          "text": [
            "Epoch 1/10\n",
            "1563/1563 [==============================] - 66s 42ms/step - loss: 1.5565 - accuracy: 0.4301 - val_loss: 1.3369 - val_accuracy: 0.5140\n",
            "Epoch 2/10\n",
            "1563/1563 [==============================] - 65s 42ms/step - loss: 1.1773 - accuracy: 0.5777 - val_loss: 1.1735 - val_accuracy: 0.5831\n",
            "Epoch 3/10\n",
            "1563/1563 [==============================] - 67s 43ms/step - loss: 1.0143 - accuracy: 0.6406 - val_loss: 1.0585 - val_accuracy: 0.6293\n",
            "Epoch 4/10\n",
            "1563/1563 [==============================] - 65s 42ms/step - loss: 0.9085 - accuracy: 0.6803 - val_loss: 0.9588 - val_accuracy: 0.6663\n",
            "Epoch 5/10\n",
            "1563/1563 [==============================] - 66s 42ms/step - loss: 0.8311 - accuracy: 0.7078 - val_loss: 0.8845 - val_accuracy: 0.6955\n",
            "Epoch 6/10\n",
            "1563/1563 [==============================] - 66s 42ms/step - loss: 0.7721 - accuracy: 0.7289 - val_loss: 0.8692 - val_accuracy: 0.6985\n",
            "Epoch 7/10\n",
            "1563/1563 [==============================] - 65s 41ms/step - loss: 0.7204 - accuracy: 0.7467 - val_loss: 0.8741 - val_accuracy: 0.7015\n",
            "Epoch 8/10\n",
            "1563/1563 [==============================] - 67s 43ms/step - loss: 0.6716 - accuracy: 0.7642 - val_loss: 0.8722 - val_accuracy: 0.7047\n",
            "Epoch 9/10\n",
            "1563/1563 [==============================] - 69s 44ms/step - loss: 0.6337 - accuracy: 0.7775 - val_loss: 0.8440 - val_accuracy: 0.7156\n",
            "Epoch 10/10\n",
            "1563/1563 [==============================] - 65s 41ms/step - loss: 0.5921 - accuracy: 0.7903 - val_loss: 0.8756 - val_accuracy: 0.7103\n",
            "313/313 - 4s - loss: 0.8756 - accuracy: 0.7103\n"
          ],
          "name": "stdout"
        }
      ]
    },
    {
      "cell_type": "code",
      "metadata": {
        "id": "qXneu-31q_dT"
      },
      "source": [
        "model.save('my_model.h5') "
      ],
      "execution_count": 4,
      "outputs": []
    },
    {
      "cell_type": "markdown",
      "metadata": {
        "id": "NtV0lMtArsup"
      },
      "source": [
        "# Fine-tune pre-trained model with pruning\n",
        "You will apply pruning to the whole model and see this in the model summary.\n",
        "\n",
        "In this example, you prune the model with 10% Dense pruning and 10% Filter pruning.\n",
        "\n"
      ]
    },
    {
      "cell_type": "code",
      "metadata": {
        "id": "VWLQMAO3q_db",
        "outputId": "1a9c6265-f890-4620-8783-056a171e329e",
        "colab": {
          "base_uri": "https://localhost:8080/"
        }
      },
      "source": [
        "Denseprunerate=10\n",
        "Convprunerate=10\n",
        "\n",
        "prunemodel=Pruning.prune_model('./my_model.h5',Denseprunerate, Convprunerate)"
      ],
      "execution_count": 5,
      "outputs": [
        {
          "output_type": "stream",
          "text": [
            "Finish with pruning\n",
            "[ 0  0  0  0  0  0 58  0  0]\n",
            "No dense or conv\n",
            "No dense or conv\n",
            "No dense or conv\n",
            "Before pruning:\n",
            "Model: \"sequential\"\n",
            "_________________________________________________________________\n",
            "Layer (type)                 Output Shape              Param #   \n",
            "=================================================================\n",
            "conv2d (Conv2D)              (None, 30, 30, 32)        896       \n",
            "_________________________________________________________________\n",
            "max_pooling2d (MaxPooling2D) (None, 15, 15, 32)        0         \n",
            "_________________________________________________________________\n",
            "conv2d_1 (Conv2D)            (None, 13, 13, 64)        18496     \n",
            "_________________________________________________________________\n",
            "max_pooling2d_1 (MaxPooling2 (None, 6, 6, 64)          0         \n",
            "_________________________________________________________________\n",
            "conv2d_2 (Conv2D)            (None, 4, 4, 64)          36928     \n",
            "_________________________________________________________________\n",
            "flatten (Flatten)            (None, 1024)              0         \n",
            "_________________________________________________________________\n",
            "dense (Dense)                (None, 64)                65600     \n",
            "_________________________________________________________________\n",
            "dense_1 (Dense)              (None, 64)                4160      \n",
            "_________________________________________________________________\n",
            "dense_2 (Dense)              (None, 10)                650       \n",
            "=================================================================\n",
            "Total params: 126,730\n",
            "Trainable params: 126,730\n",
            "Non-trainable params: 0\n",
            "_________________________________________________________________\n",
            "After pruning:\n",
            "Model: \"sequential\"\n",
            "_________________________________________________________________\n",
            "Layer (type)                 Output Shape              Param #   \n",
            "=================================================================\n",
            "conv2d (Conv2D)              (None, 30, 30, 29)        812       \n",
            "_________________________________________________________________\n",
            "max_pooling2d (MaxPooling2D) (None, 15, 15, 29)        0         \n",
            "_________________________________________________________________\n",
            "conv2d_1 (Conv2D)            (None, 13, 13, 58)        15196     \n",
            "_________________________________________________________________\n",
            "max_pooling2d_1 (MaxPooling2 (None, 6, 6, 58)          0         \n",
            "_________________________________________________________________\n",
            "conv2d_2 (Conv2D)            (None, 4, 4, 58)          30334     \n",
            "_________________________________________________________________\n",
            "flatten (Flatten)            (None, 928)               0         \n",
            "_________________________________________________________________\n",
            "dense (Dense)                (None, 58)                53882     \n",
            "_________________________________________________________________\n",
            "dense_1 (Dense)              (None, 64)                3776      \n",
            "_________________________________________________________________\n",
            "dense_2 (Dense)              (None, 10)                650       \n",
            "=================================================================\n",
            "Total params: 104,650\n",
            "Trainable params: 104,650\n",
            "Non-trainable params: 0\n",
            "_________________________________________________________________\n"
          ],
          "name": "stdout"
        }
      ]
    },
    {
      "cell_type": "markdown",
      "metadata": {
        "id": "Kz2f5f-o_6mX"
      },
      "source": [
        "We see how we get less Parameter in the pruned Model"
      ]
    },
    {
      "cell_type": "markdown",
      "metadata": {
        "id": "eHSCkPz19Fwl"
      },
      "source": [
        "# Compile and re-train the model"
      ]
    },
    {
      "cell_type": "code",
      "metadata": {
        "id": "jPAucXYJq_di",
        "outputId": "8dddd94f-d3d1-4132-e6d9-5c94b5950b97",
        "colab": {
          "base_uri": "https://localhost:8080/"
        }
      },
      "source": [
        "prunemodel.compile(optimizer='adam',\n",
        "              loss=tf.keras.losses.SparseCategoricalCrossentropy(from_logits=True),\n",
        "              metrics=['accuracy'])\n",
        "\n",
        "history = prunemodel.fit(train_images, train_labels, epochs=10, \n",
        "                    validation_data=(test_images, test_labels))\n",
        "\n",
        "test_loss, test_acc = prunemodel.evaluate(test_images,  test_labels, verbose=2)"
      ],
      "execution_count": 6,
      "outputs": [
        {
          "output_type": "stream",
          "text": [
            "Epoch 1/10\n",
            "1563/1563 [==============================] - 67s 43ms/step - loss: 0.9869 - accuracy: 0.6501 - val_loss: 0.8713 - val_accuracy: 0.7002\n",
            "Epoch 2/10\n",
            "1563/1563 [==============================] - 67s 43ms/step - loss: 0.7278 - accuracy: 0.7444 - val_loss: 0.8263 - val_accuracy: 0.7162\n",
            "Epoch 3/10\n",
            "1563/1563 [==============================] - 66s 42ms/step - loss: 0.6433 - accuracy: 0.7747 - val_loss: 0.8543 - val_accuracy: 0.7140\n",
            "Epoch 4/10\n",
            "1563/1563 [==============================] - 66s 42ms/step - loss: 0.5882 - accuracy: 0.7931 - val_loss: 0.8245 - val_accuracy: 0.7232\n",
            "Epoch 5/10\n",
            "1563/1563 [==============================] - 66s 42ms/step - loss: 0.5445 - accuracy: 0.8095 - val_loss: 0.8631 - val_accuracy: 0.7239\n",
            "Epoch 6/10\n",
            "1563/1563 [==============================] - 66s 42ms/step - loss: 0.5035 - accuracy: 0.8237 - val_loss: 0.8689 - val_accuracy: 0.7271\n",
            "Epoch 7/10\n",
            "1563/1563 [==============================] - 67s 43ms/step - loss: 0.4675 - accuracy: 0.8374 - val_loss: 0.9120 - val_accuracy: 0.7124\n",
            "Epoch 8/10\n",
            "1563/1563 [==============================] - 70s 44ms/step - loss: 0.4357 - accuracy: 0.8471 - val_loss: 0.9683 - val_accuracy: 0.7045\n",
            "Epoch 9/10\n",
            "1563/1563 [==============================] - 66s 42ms/step - loss: 0.4042 - accuracy: 0.8561 - val_loss: 0.9448 - val_accuracy: 0.7223\n",
            "Epoch 10/10\n",
            "1563/1563 [==============================] - 66s 42ms/step - loss: 0.3728 - accuracy: 0.8676 - val_loss: 1.0083 - val_accuracy: 0.7051\n",
            "313/313 - 4s - loss: 1.0083 - accuracy: 0.7051\n"
          ],
          "name": "stdout"
        }
      ]
    },
    {
      "cell_type": "markdown",
      "metadata": {
        "id": "0y_x_9EjAQbz"
      },
      "source": [
        "Compare both Models"
      ]
    },
    {
      "cell_type": "code",
      "metadata": {
        "id": "hw1IIf0CAReG",
        "outputId": "d6268ded-e0e2-4a32-9264-3fd2048651d6",
        "colab": {
          "base_uri": "https://localhost:8080/"
        }
      },
      "source": [
        "test_loss, test_acc = model.evaluate(test_images,  test_labels, verbose=2)\n",
        "test_loss, test_acc = prunemodel.evaluate(test_images,  test_labels, verbose=2)"
      ],
      "execution_count": 7,
      "outputs": [
        {
          "output_type": "stream",
          "text": [
            "313/313 - 4s - loss: 0.8756 - accuracy: 0.7103\n",
            "313/313 - 4s - loss: 1.0083 - accuracy: 0.7051\n"
          ],
          "name": "stdout"
        }
      ]
    }
  ]
}