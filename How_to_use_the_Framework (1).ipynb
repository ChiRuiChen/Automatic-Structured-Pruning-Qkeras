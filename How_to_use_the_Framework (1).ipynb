{
  "nbformat": 4,
  "nbformat_minor": 0,
  "metadata": {
    "kernelspec": {
      "display_name": "Python 3",
      "language": "python",
      "name": "python3"
    },
    "language_info": {
      "codemirror_mode": {
        "name": "ipython",
        "version": 3
      },
      "file_extension": ".py",
      "mimetype": "text/x-python",
      "name": "python",
      "nbconvert_exporter": "python",
      "pygments_lexer": "ipython3",
      "version": "3.8.5"
    },
    "colab": {
      "name": "How_to_use_the_Framework.ipynb",
      "provenance": [],
      "collapsed_sections": [],
      "toc_visible": true
    }
  },
  "cells": [
    {
      "cell_type": "markdown",
      "metadata": {
        "id": "nYHb1ZgWsRii"
      },
      "source": [
        "# Pruning with our automatic strutured Pruning framework\n",
        "Welcome to an end-to-end example for magnitude-based weight pruning\n",
        "\n",
        "**Summary**\n",
        "\n",
        "In this tutorial, you will:\n",
        "\n",
        "* Train a tf.keras model for Cifa10 from scratch.\n",
        "* Fine tune the model by applying the pruning Framework and see the accuracy.\n",
        "\n",
        "\n",
        "\n"
      ]
    },
    {
      "cell_type": "code",
      "metadata": {
        "id": "f_QYhrsRq_dL"
      },
      "source": [
        "!git clone https://github.com/Hahn-Schickard/Automatic-Structured-Pruning\n",
        "!echo $CWD\n",
        "!cp -rf /content/Automatic-Structured-Pruning/* /content/\n",
        "\n",
        "#The Framework work with Tensorflow 2.1-2.3.1\n",
        "import Pruning"
      ],
      "execution_count": null,
      "outputs": []
    },
    {
      "cell_type": "markdown",
      "metadata": {
        "id": "P59sTXkZrcUB"
      },
      "source": [
        "## Train a model for CIFA10 without pruning\n",
        "Download and prepare the CIFAR10 dataset\n",
        "The CIFAR10 dataset contains 60,000 color images in 10 classes, with 6,000 images in each class. The dataset is divided into 50,000 training images and 10,000 testing images. The classes are mutually exclusive and there is no overlap between them.\n",
        "\n",
        "Create the convolutional base\n",
        "The 6 lines of code below define the convolutional base using a common pattern: a stack of Conv2D and MaxPooling2D layers.\n",
        "\n",
        "As input, a CNN takes tensors of shape (image_height, image_width, color_channels), ignoring the batch size. If you are new to these dimensions, color_channels refers to (R,G,B). In this example, you will configure our CNN to process inputs of shape (32, 32, 3), which is the format of CIFAR images. You can do this by passing the argument input_shape to our first layer.\n",
        "\n",
        "To complete our model, you will feed the last output tensor from the convolutional base (of shape (4, 4, 64)) into one or more Dense layers to perform classification. Dense layers take vectors as input (which are 1D), while the current output is a 3D tensor. First, you will flatten (or unroll) the 3D output to 1D, then add one or more Dense layers on top. CIFAR has 10 output classes, so you use a final Dense layer with 10 outputs and a softmax activation."
      ]
    },
    {
      "cell_type": "code",
      "metadata": {
        "id": "lOE5QdnNq_dQ"
      },
      "source": [
        "import tensorflow as tf\n",
        "\n",
        "from tensorflow.keras import datasets, layers, models\n",
        "#import matplotlib.pyplot as plt\n",
        "(train_images, train_labels), (test_images, test_labels) = datasets.cifar10.load_data()\n",
        "\n",
        "# Normalize pixel values to be between 0 and 1\n",
        "train_images, test_images = train_images / 255.0, test_images / 255.0\n",
        "model = models.Sequential()\n",
        "model.add(layers.Conv2D(32, (3, 3), activation='relu', input_shape=(32, 32, 3)))\n",
        "model.add(layers.MaxPooling2D((2, 2)))\n",
        "model.add(layers.Conv2D(64, (3, 3), activation='relu'))\n",
        "model.add(layers.MaxPooling2D((2, 2)))\n",
        "model.add(layers.Conv2D(64, (3, 3), activation='relu'))\n",
        "model.add(layers.Flatten())\n",
        "model.add(layers.Dense(64, activation='relu'))\n",
        "model.add(layers.Dense(64, activation='relu'))\n",
        "model.add(layers.Dense(10))\n",
        "\n",
        "model.summary()\n",
        "\n"
      ],
      "execution_count": null,
      "outputs": []
    },
    {
      "cell_type": "markdown",
      "metadata": {
        "id": "oY3Yas0wrmZf"
      },
      "source": [
        "Above, you can see that the output of every Conv2D and MaxPooling2D layer is a 3D tensor of shape (height, width, channels). The width and height dimensions tend to shrink as you go deeper in the network. The number of output channels for each Conv2D layer is controlled by the first argument (e.g., 32 or 64). Typically, as the width and height shrink, you can afford (computationally) to add more output channels in each Conv2D layer.\n",
        "As you can see, our (4, 4, 64) outputs were flattened into vectors of shape (1024) before going through two Dense layers.\n"
      ]
    },
    {
      "cell_type": "markdown",
      "metadata": {
        "id": "ei2Brtgc232J"
      },
      "source": [
        "## Compile and train the model"
      ]
    },
    {
      "cell_type": "code",
      "metadata": {
        "id": "5Slx3T9n24o6"
      },
      "source": [
        "\n",
        "model.compile(optimizer='adam',\n",
        "              loss=tf.keras.losses.SparseCategoricalCrossentropy(from_logits=True),\n",
        "              metrics=['accuracy'])\n",
        "\n",
        "history = model.fit(train_images, train_labels, epochs=10, \n",
        "                    validation_data=(test_images, test_labels))\n",
        "\n",
        "test_loss, test_acc = model.evaluate(test_images,  test_labels, verbose=2)"
      ],
      "execution_count": null,
      "outputs": []
    },
    {
      "cell_type": "code",
      "metadata": {
        "id": "qXneu-31q_dT"
      },
      "source": [
        "model.save('my_model.h5') "
      ],
      "execution_count": null,
      "outputs": []
    },
    {
      "cell_type": "markdown",
      "metadata": {
        "id": "NtV0lMtArsup"
      },
      "source": [
        "## Fine-tune pre-trained model with pruning\n",
        "You will apply pruning to the whole model and see this in the model summary.\n",
        "\n",
        "In this example, you prune the model with 10% Dense pruning and 10% Filter pruning.\n",
        "\n"
      ]
    },
    {
      "cell_type": "code",
      "metadata": {
        "id": "VWLQMAO3q_db"
      },
      "source": [
        "Denseprunerate=10\n",
        "Convprunerate=10\n",
        "import Pruning\n",
        "prunemodel=Pruning.prune_model('./my_model.h5',Denseprunerate, Convprunerate)"
      ],
      "execution_count": null,
      "outputs": []
    },
    {
      "cell_type": "markdown",
      "metadata": {
        "id": "Kz2f5f-o_6mX"
      },
      "source": [
        "We see how we get less Parameter in the pruned Model"
      ]
    },
    {
      "cell_type": "markdown",
      "metadata": {
        "id": "eHSCkPz19Fwl"
      },
      "source": [
        "## Compile and re-train the model"
      ]
    },
    {
      "cell_type": "code",
      "metadata": {
        "id": "jPAucXYJq_di"
      },
      "source": [
        "compile = {\n",
        "  \"optimizer\": 'adam',\n",
        "  \"loss\": tf.keras.losses.SparseCategoricalCrossentropy(from_logits=True),\n",
        "  \"metrics\": 'accuracy'\n",
        "}\n",
        "\n",
        "prunemodel.compile(**compile,)\n",
        "\n",
        "history = prunemodel.fit(train_images, train_labels, epochs=10, \n",
        "                    validation_data=(test_images, test_labels))\n",
        "\n",
        "test_loss, test_acc = prunemodel.evaluate(test_images,  test_labels, verbose=2)"
      ],
      "execution_count": null,
      "outputs": []
    },
    {
      "cell_type": "markdown",
      "metadata": {
        "id": "0y_x_9EjAQbz"
      },
      "source": [
        "Compare both Models"
      ]
    },
    {
      "cell_type": "code",
      "metadata": {
        "id": "hw1IIf0CAReG"
      },
      "source": [
        "test_loss, test_acc = model.evaluate(test_images,  test_labels, verbose=2)\n",
        "test_loss, test_acc = prunemodel.evaluate(test_images,  test_labels, verbose=2)"
      ],
      "execution_count": null,
      "outputs": []
    },
    {
      "cell_type": "markdown",
      "metadata": {
        "id": "vSgcm-WoclIF"
      },
      "source": [
        "#Prune a model to a maximum accuracy loss\n",
        "\n",
        "We define the compile arguments and the arguments fpr the Model.fit() function. "
      ]
    },
    {
      "cell_type": "code",
      "metadata": {
        "id": "rUtd-GqJdJNx"
      },
      "source": [
        "from keras.callbacks import EarlyStopping\n",
        "import Pruning\n",
        "\n",
        "comp = {\n",
        "  \"optimizer\": 'adam',\n",
        "  \"loss\": tf.keras.losses.SparseCategoricalCrossentropy(from_logits=True),\n",
        "  \"metrics\": 'accuracy'\n",
        "}\n",
        "\n",
        "\n",
        "fit = {\n",
        "  \"epochs\": 10,\n",
        "  \"callbacks\": EarlyStopping(monitor='val_accuracy', min_delta= 1e-3, mode='min', verbose=1, patience=5, restore_best_weights=True)\n",
        "}\n",
        "\n",
        "\n",
        "\n",
        "automodel=Pruning.pruning_for_acc('./my_model.h5',train_images,train_labels,test_images,  test_labels,comp,fit,None,5)"
      ],
      "execution_count": null,
      "outputs": []
    }
  ]
}