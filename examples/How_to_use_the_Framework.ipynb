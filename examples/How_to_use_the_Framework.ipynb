{
 "cells": [
  {
   "cell_type": "markdown",
   "metadata": {
    "id": "nYHb1ZgWsRii"
   },
   "source": [
    "# Pruning with our automatic structured Pruning framework\n",
    "Welcome to an end-to-end example for magnitude-based weight pruning\n",
    "\n",
    "**Summary**\n",
    "\n",
    "In this tutorial, you will:\n",
    "\n",
    "* Train a tf.keras model for CIFAR10 from scratch.\n",
    "* Fine tune the model by applying the pruning Framework and see the accuracy."
   ]
  },
  {
   "cell_type": "markdown",
   "metadata": {},
   "source": [
    "If you want to execute this notebook in Google Colab, uncomment the code below."
   ]
  },
  {
   "cell_type": "code",
   "execution_count": 15,
   "metadata": {
    "colab": {
     "base_uri": "https://localhost:8080/"
    },
    "id": "f_QYhrsRq_dL",
    "outputId": "459d5eeb-0c25-4d9c-8ccf-fec265a9b909"
   },
   "outputs": [],
   "source": [
    "import sys\n",
    "\n",
    "if 'google.colab' in sys.modules:\n",
    "    !git clone https://github.com/Hahn-Schickard/Automatic-Structured-Pruning\n",
    "    !echo $CWD\n",
    "    sys.path.append(\"Automatic-Structured-Pruning/src\")\n",
    "else:\n",
    "    sys.path.append(\"../src\")\n",
    "    \n",
    "import pruning"
   ]
  },
  {
   "cell_type": "markdown",
   "metadata": {
    "id": "P59sTXkZrcUB"
   },
   "source": [
    "## Train a model for CIFAR10 without pruning\n",
    "Download and prepare the CIFAR10 dataset.\n",
    "The CIFAR10 dataset contains 60,000 color images in 10 classes, with 6,000 images in each class. The dataset is divided into 50,000 training images and 10,000 testing images. The classes are mutually exclusive and there is no overlap between them.\n",
    "\n",
    "Create the convolutional base\n",
    "The 6 lines of code below define the convolutional base using a common pattern: a stack of Conv2D and MaxPooling2D layers.\n",
    "\n",
    "As input, a CNN takes tensors of shape (image_height, image_width, color_channels), ignoring the batch size. If you are new to these dimensions, color_channels refers to (R,G,B). In this example, you will configure our CNN to process inputs of shape (32, 32, 3), which is the format of CIFAR images. You can do this by passing the argument input_shape to our first layer.\n",
    "\n",
    "To complete our model, you will feed the last output tensor from the convolutional base (of shape (4, 4, 64)) into one or more Dense layers to perform classification. Dense layers take vectors as input (which are 1D), while the current output is a 3D tensor. First, you will flatten (or unroll) the 3D output to 1D, then add one or more Dense layers on top. CIFAR has 10 output classes, so you use a final Dense layer with 10 outputs and a softmax activation."
   ]
  },
  {
   "cell_type": "code",
   "execution_count": 3,
   "metadata": {
    "colab": {
     "base_uri": "https://localhost:8080/"
    },
    "id": "lOE5QdnNq_dQ",
    "outputId": "1f6861d6-952c-464b-be78-c274a4d189dc"
   },
   "outputs": [
    {
     "name": "stdout",
     "output_type": "stream",
     "text": [
      "Model: \"sequential\"\n",
      "_________________________________________________________________\n",
      "Layer (type)                 Output Shape              Param #   \n",
      "=================================================================\n",
      "conv2d (Conv2D)              (None, 30, 30, 32)        896       \n",
      "_________________________________________________________________\n",
      "max_pooling2d (MaxPooling2D) (None, 15, 15, 32)        0         \n",
      "_________________________________________________________________\n",
      "conv2d_1 (Conv2D)            (None, 13, 13, 64)        18496     \n",
      "_________________________________________________________________\n",
      "max_pooling2d_1 (MaxPooling2 (None, 6, 6, 64)          0         \n",
      "_________________________________________________________________\n",
      "conv2d_2 (Conv2D)            (None, 4, 4, 64)          36928     \n",
      "_________________________________________________________________\n",
      "max_pooling2d_2 (MaxPooling2 (None, 2, 2, 64)          0         \n",
      "_________________________________________________________________\n",
      "flatten (Flatten)            (None, 256)               0         \n",
      "_________________________________________________________________\n",
      "dense (Dense)                (None, 64)                16448     \n",
      "_________________________________________________________________\n",
      "dropout (Dropout)            (None, 64)                0         \n",
      "_________________________________________________________________\n",
      "dense_1 (Dense)              (None, 32)                2080      \n",
      "_________________________________________________________________\n",
      "dropout_1 (Dropout)          (None, 32)                0         \n",
      "_________________________________________________________________\n",
      "dense_2 (Dense)              (None, 10)                330       \n",
      "=================================================================\n",
      "Total params: 75,178\n",
      "Trainable params: 75,178\n",
      "Non-trainable params: 0\n",
      "_________________________________________________________________\n"
     ]
    }
   ],
   "source": [
    "import tensorflow as tf\n",
    "from tensorflow.keras import datasets, layers, models\n",
    "\n",
    "\n",
    "(train_images, train_labels), (test_images, test_labels) = datasets.cifar10.load_data()\n",
    "\n",
    "# Normalize pixel values to be between 0 and 1\n",
    "train_images, test_images = train_images / 255.0, test_images / 255.0\n",
    "\n",
    "model = models.Sequential()\n",
    "model.add(layers.Conv2D(32, (3, 3), activation='relu', input_shape=(32, 32, 3)))\n",
    "model.add(layers.MaxPooling2D((2, 2)))\n",
    "model.add(layers.Conv2D(64, (3, 3), activation='relu'))\n",
    "model.add(layers.MaxPooling2D((2, 2)))\n",
    "model.add(layers.Conv2D(64, (3, 3), activation='relu'))\n",
    "model.add(layers.MaxPooling2D((2, 2)))\n",
    "model.add(layers.Flatten())\n",
    "model.add(layers.Dense(64, activation='relu'))\n",
    "model.add(layers.Dropout(0.3))\n",
    "model.add(layers.Dense(32, activation='relu'))\n",
    "model.add(layers.Dropout(0.25))\n",
    "model.add(layers.Dense(10, activation='softmax'))\n",
    "\n",
    "model.summary()"
   ]
  },
  {
   "cell_type": "markdown",
   "metadata": {
    "id": "oY3Yas0wrmZf"
   },
   "source": [
    "Above, you can see that the output of every Conv2D and MaxPooling2D layer is a 3D tensor of shape (height, width, channels). The width and height dimensions tend to shrink as you go deeper in the network. The number of output channels for each Conv2D layer is controlled by the first argument (e.g., 32 or 64). Typically, as the width and height shrink, you can afford (computationally) to add more output channels in each Conv2D layer.\n",
    "As you can see, our (4, 4, 64) outputs were flattened into vectors of shape (1024) before going through two Dense layers."
   ]
  },
  {
   "cell_type": "markdown",
   "metadata": {
    "id": "ei2Brtgc232J"
   },
   "source": [
    "## Compile and train the model"
   ]
  },
  {
   "cell_type": "code",
   "execution_count": 4,
   "metadata": {
    "colab": {
     "base_uri": "https://localhost:8080/"
    },
    "id": "5Slx3T9n24o6",
    "outputId": "119ec2c1-30b9-4aca-a26e-ab6317f3765a"
   },
   "outputs": [
    {
     "name": "stdout",
     "output_type": "stream",
     "text": [
      "Epoch 1/30\n",
      "313/313 [==============================] - 5s 8ms/step - loss: 1.9654 - accuracy: 0.2539 - val_loss: 1.6493 - val_accuracy: 0.3964\n",
      "Epoch 2/30\n",
      "313/313 [==============================] - 2s 6ms/step - loss: 1.6378 - accuracy: 0.3893 - val_loss: 1.4366 - val_accuracy: 0.4777\n",
      "Epoch 3/30\n",
      "313/313 [==============================] - 2s 6ms/step - loss: 1.4730 - accuracy: 0.4650 - val_loss: 1.3202 - val_accuracy: 0.5361\n",
      "Epoch 4/30\n",
      "313/313 [==============================] - 2s 6ms/step - loss: 1.3611 - accuracy: 0.5123 - val_loss: 1.1958 - val_accuracy: 0.5717\n",
      "Epoch 5/30\n",
      "313/313 [==============================] - 2s 6ms/step - loss: 1.2800 - accuracy: 0.5434 - val_loss: 1.1978 - val_accuracy: 0.5744\n",
      "Epoch 6/30\n",
      "313/313 [==============================] - 2s 6ms/step - loss: 1.2109 - accuracy: 0.5738 - val_loss: 1.0942 - val_accuracy: 0.6127\n",
      "Epoch 7/30\n",
      "313/313 [==============================] - 2s 6ms/step - loss: 1.1583 - accuracy: 0.5918 - val_loss: 1.0708 - val_accuracy: 0.6224\n",
      "Epoch 8/30\n",
      "313/313 [==============================] - 2s 6ms/step - loss: 1.1030 - accuracy: 0.6138 - val_loss: 1.0610 - val_accuracy: 0.6305\n",
      "Epoch 9/30\n",
      "313/313 [==============================] - 2s 6ms/step - loss: 1.0718 - accuracy: 0.6266 - val_loss: 1.0589 - val_accuracy: 0.6329\n",
      "Epoch 10/30\n",
      "313/313 [==============================] - 2s 6ms/step - loss: 1.0333 - accuracy: 0.6390 - val_loss: 0.9829 - val_accuracy: 0.6573\n",
      "Epoch 11/30\n",
      "313/313 [==============================] - 2s 6ms/step - loss: 0.9974 - accuracy: 0.6532 - val_loss: 0.9854 - val_accuracy: 0.6555\n",
      "Epoch 12/30\n",
      "313/313 [==============================] - 2s 6ms/step - loss: 0.9602 - accuracy: 0.6672 - val_loss: 0.9595 - val_accuracy: 0.6694\n",
      "Epoch 13/30\n",
      "313/313 [==============================] - 2s 6ms/step - loss: 0.9438 - accuracy: 0.6744 - val_loss: 0.9518 - val_accuracy: 0.6667\n",
      "Epoch 14/30\n",
      "313/313 [==============================] - 2s 6ms/step - loss: 0.9172 - accuracy: 0.6828 - val_loss: 0.9530 - val_accuracy: 0.6715\n",
      "Epoch 15/30\n",
      "313/313 [==============================] - 2s 6ms/step - loss: 0.8864 - accuracy: 0.6926 - val_loss: 0.9268 - val_accuracy: 0.6743\n",
      "Epoch 16/30\n",
      "313/313 [==============================] - 2s 6ms/step - loss: 0.8719 - accuracy: 0.6998 - val_loss: 0.9073 - val_accuracy: 0.6870\n",
      "Epoch 17/30\n",
      "313/313 [==============================] - 2s 6ms/step - loss: 0.8427 - accuracy: 0.7082 - val_loss: 0.9306 - val_accuracy: 0.6791\n",
      "Epoch 18/30\n",
      "313/313 [==============================] - 2s 6ms/step - loss: 0.8256 - accuracy: 0.7153 - val_loss: 0.9521 - val_accuracy: 0.6794\n",
      "Epoch 19/30\n",
      "313/313 [==============================] - 2s 6ms/step - loss: 0.8043 - accuracy: 0.7230 - val_loss: 0.9374 - val_accuracy: 0.6786\n",
      "Epoch 20/30\n",
      "313/313 [==============================] - 2s 6ms/step - loss: 0.7838 - accuracy: 0.7317 - val_loss: 0.9326 - val_accuracy: 0.6859\n",
      "Epoch 21/30\n",
      "313/313 [==============================] - 2s 6ms/step - loss: 0.7740 - accuracy: 0.7340 - val_loss: 0.8963 - val_accuracy: 0.6953\n",
      "Epoch 22/30\n",
      "313/313 [==============================] - 2s 6ms/step - loss: 0.7549 - accuracy: 0.7394 - val_loss: 0.9235 - val_accuracy: 0.6933\n",
      "Epoch 23/30\n",
      "313/313 [==============================] - 2s 6ms/step - loss: 0.7305 - accuracy: 0.7456 - val_loss: 0.9435 - val_accuracy: 0.6895\n",
      "Epoch 24/30\n",
      "313/313 [==============================] - 2s 6ms/step - loss: 0.7157 - accuracy: 0.7524 - val_loss: 0.9173 - val_accuracy: 0.6965\n",
      "Epoch 25/30\n",
      "313/313 [==============================] - 2s 7ms/step - loss: 0.7014 - accuracy: 0.7573 - val_loss: 0.9301 - val_accuracy: 0.6920\n",
      "Epoch 26/30\n",
      "313/313 [==============================] - 2s 7ms/step - loss: 0.6882 - accuracy: 0.7599 - val_loss: 0.9517 - val_accuracy: 0.6946\n",
      "313/313 - 1s - loss: 0.9200 - accuracy: 0.6895\n",
      "Model accuracy after Training: 68.95%\n"
     ]
    }
   ],
   "source": [
    "comp = {\n",
    "\"optimizer\":'adam',\n",
    "\"loss\": tf.keras.losses.SparseCategoricalCrossentropy(),\n",
    "\"metrics\": ['accuracy']}\n",
    "\n",
    "model.compile(**comp)\n",
    "callbacks = [tf.keras.callbacks.EarlyStopping(monitor='val_loss', patience=5, restore_best_weights=True)]\n",
    "\n",
    "model.fit(train_images, train_labels, validation_split=0.2, epochs=30, batch_size=128, callbacks=callbacks)\n",
    "\n",
    "model_test_loss, model_test_acc = model.evaluate(test_images, test_labels, verbose=2)\n",
    "print(f\"Model accuracy after Training: {model_test_acc*100:.2f}%\")"
   ]
  },
  {
   "cell_type": "markdown",
   "metadata": {
    "id": "NtV0lMtArsup"
   },
   "source": [
    "## Fine-tune pre-trained model with pruning\n",
    "You will apply pruning to the whole model and see this in the model summary.\n",
    "\n",
    "In this example, you prune the model with 30% dense pruning and 40% filter pruning."
   ]
  },
  {
   "cell_type": "code",
   "execution_count": 5,
   "metadata": {
    "colab": {
     "base_uri": "https://localhost:8080/"
    },
    "id": "VWLQMAO3q_db",
    "outputId": "ede18f6b-a318-497b-8cd6-f22e7bc8b62c"
   },
   "outputs": [
    {
     "name": "stdout",
     "output_type": "stream",
     "text": [
      "Finish with pruning\n",
      "Before pruning:\n",
      "Model: \"sequential\"\n",
      "_________________________________________________________________\n",
      "Layer (type)                 Output Shape              Param #   \n",
      "=================================================================\n",
      "conv2d (Conv2D)              (None, 30, 30, 32)        896       \n",
      "_________________________________________________________________\n",
      "max_pooling2d (MaxPooling2D) (None, 15, 15, 32)        0         \n",
      "_________________________________________________________________\n",
      "conv2d_1 (Conv2D)            (None, 13, 13, 64)        18496     \n",
      "_________________________________________________________________\n",
      "max_pooling2d_1 (MaxPooling2 (None, 6, 6, 64)          0         \n",
      "_________________________________________________________________\n",
      "conv2d_2 (Conv2D)            (None, 4, 4, 64)          36928     \n",
      "_________________________________________________________________\n",
      "max_pooling2d_2 (MaxPooling2 (None, 2, 2, 64)          0         \n",
      "_________________________________________________________________\n",
      "flatten (Flatten)            (None, 256)               0         \n",
      "_________________________________________________________________\n",
      "dense (Dense)                (None, 64)                16448     \n",
      "_________________________________________________________________\n",
      "dropout (Dropout)            (None, 64)                0         \n",
      "_________________________________________________________________\n",
      "dense_1 (Dense)              (None, 32)                2080      \n",
      "_________________________________________________________________\n",
      "dropout_1 (Dropout)          (None, 32)                0         \n",
      "_________________________________________________________________\n",
      "dense_2 (Dense)              (None, 10)                330       \n",
      "=================================================================\n",
      "Total params: 75,178\n",
      "Trainable params: 75,178\n",
      "Non-trainable params: 0\n",
      "_________________________________________________________________\n",
      "After pruning:\n",
      "Model: \"sequential\"\n",
      "_________________________________________________________________\n",
      "Layer (type)                 Output Shape              Param #   \n",
      "=================================================================\n",
      "conv2d (Conv2D)              (None, 30, 30, 20)        560       \n",
      "_________________________________________________________________\n",
      "max_pooling2d (MaxPooling2D) (None, 15, 15, 20)        0         \n",
      "_________________________________________________________________\n",
      "conv2d_1 (Conv2D)            (None, 13, 13, 39)        7059      \n",
      "_________________________________________________________________\n",
      "max_pooling2d_1 (MaxPooling2 (None, 6, 6, 39)          0         \n",
      "_________________________________________________________________\n",
      "conv2d_2 (Conv2D)            (None, 4, 4, 39)          13728     \n",
      "_________________________________________________________________\n",
      "max_pooling2d_2 (MaxPooling2 (None, 2, 2, 39)          0         \n",
      "_________________________________________________________________\n",
      "flatten (Flatten)            (None, 156)               0         \n",
      "_________________________________________________________________\n",
      "dense (Dense)                (None, 45)                7065      \n",
      "_________________________________________________________________\n",
      "dropout (Dropout)            (None, 45)                0         \n",
      "_________________________________________________________________\n",
      "dense_1 (Dense)              (None, 23)                1058      \n",
      "_________________________________________________________________\n",
      "dropout_1 (Dropout)          (None, 23)                0         \n",
      "_________________________________________________________________\n",
      "dense_2 (Dense)              (None, 10)                240       \n",
      "=================================================================\n",
      "Total params: 29,710\n",
      "Trainable params: 29,710\n",
      "Non-trainable params: 0\n",
      "_________________________________________________________________\n",
      "Model built\n"
     ]
    },
    {
     "name": "stderr",
     "output_type": "stream",
     "text": [
      "c:\\Users\\dk100\\Documents\\Automatic-Structured-Pruning\\examples\\../src\\pruning_helper_functions.py:108: VisibleDeprecationWarning: Creating an ndarray from ragged nested sequences (which is a list-or-tuple of lists-or-tuples-or ndarrays with different lengths or shapes) is deprecated. If you meant to do this, you must specify 'dtype=object' when creating the ndarray\n",
      "  return np.array(layer_types), np.array(layer_params), \\\n"
     ]
    }
   ],
   "source": [
    "dense_prune_rate=30\n",
    "conv_prune_rate=40\n",
    "pruned_model=pruning.prune_model(model, dense_prune_rate, conv_prune_rate,'L2', num_classes=10)"
   ]
  },
  {
   "cell_type": "markdown",
   "metadata": {
    "id": "Kz2f5f-o_6mX"
   },
   "source": [
    "We see how we get less parameter in the pruned model."
   ]
  },
  {
   "cell_type": "markdown",
   "metadata": {
    "id": "eHSCkPz19Fwl"
   },
   "source": [
    "## Compile and re-train the model"
   ]
  },
  {
   "cell_type": "code",
   "execution_count": 6,
   "metadata": {},
   "outputs": [
    {
     "name": "stdout",
     "output_type": "stream",
     "text": [
      "Model: \"sequential\"\n",
      "_________________________________________________________________\n",
      "Layer (type)                 Output Shape              Param #   \n",
      "=================================================================\n",
      "conv2d (Conv2D)              (None, 30, 30, 20)        560       \n",
      "_________________________________________________________________\n",
      "max_pooling2d (MaxPooling2D) (None, 15, 15, 20)        0         \n",
      "_________________________________________________________________\n",
      "conv2d_1 (Conv2D)            (None, 13, 13, 39)        7059      \n",
      "_________________________________________________________________\n",
      "max_pooling2d_1 (MaxPooling2 (None, 6, 6, 39)          0         \n",
      "_________________________________________________________________\n",
      "conv2d_2 (Conv2D)            (None, 4, 4, 39)          13728     \n",
      "_________________________________________________________________\n",
      "max_pooling2d_2 (MaxPooling2 (None, 2, 2, 39)          0         \n",
      "_________________________________________________________________\n",
      "flatten (Flatten)            (None, 156)               0         \n",
      "_________________________________________________________________\n",
      "dense (Dense)                (None, 45)                7065      \n",
      "_________________________________________________________________\n",
      "dropout (Dropout)            (None, 45)                0         \n",
      "_________________________________________________________________\n",
      "dense_1 (Dense)              (None, 23)                1058      \n",
      "_________________________________________________________________\n",
      "dropout_1 (Dropout)          (None, 23)                0         \n",
      "_________________________________________________________________\n",
      "dense_2 (Dense)              (None, 10)                240       \n",
      "=================================================================\n",
      "Total params: 29,710\n",
      "Trainable params: 29,710\n",
      "Non-trainable params: 0\n",
      "_________________________________________________________________\n"
     ]
    }
   ],
   "source": [
    "pruned_model.summary()"
   ]
  },
  {
   "cell_type": "code",
   "execution_count": 7,
   "metadata": {
    "id": "jPAucXYJq_di"
   },
   "outputs": [
    {
     "name": "stdout",
     "output_type": "stream",
     "text": [
      "Epoch 1/10\n",
      "1250/1250 [==============================] - 7s 5ms/step - loss: 1.4941 - accuracy: 0.4712 - val_loss: 1.2086 - val_accuracy: 0.5807\n",
      "Epoch 2/10\n",
      "1250/1250 [==============================] - 6s 5ms/step - loss: 1.2093 - accuracy: 0.5824 - val_loss: 1.0823 - val_accuracy: 0.6264\n",
      "Epoch 3/10\n",
      "1250/1250 [==============================] - 6s 5ms/step - loss: 1.1168 - accuracy: 0.6164 - val_loss: 1.0294 - val_accuracy: 0.6378\n",
      "Epoch 4/10\n",
      "1250/1250 [==============================] - 6s 5ms/step - loss: 1.0531 - accuracy: 0.6394 - val_loss: 1.0496 - val_accuracy: 0.6268\n",
      "Epoch 5/10\n",
      "1250/1250 [==============================] - 6s 5ms/step - loss: 1.0263 - accuracy: 0.6499 - val_loss: 0.9682 - val_accuracy: 0.6675\n",
      "Epoch 6/10\n",
      "1250/1250 [==============================] - 6s 5ms/step - loss: 0.9900 - accuracy: 0.6649 - val_loss: 0.9566 - val_accuracy: 0.6733\n",
      "Epoch 7/10\n",
      "1250/1250 [==============================] - 6s 5ms/step - loss: 0.9708 - accuracy: 0.6714 - val_loss: 0.9918 - val_accuracy: 0.6605\n",
      "Epoch 8/10\n",
      "1250/1250 [==============================] - 7s 5ms/step - loss: 0.9403 - accuracy: 0.6827 - val_loss: 0.9618 - val_accuracy: 0.6720\n",
      "Epoch 9/10\n",
      "1250/1250 [==============================] - 8s 6ms/step - loss: 0.9261 - accuracy: 0.6826 - val_loss: 0.9684 - val_accuracy: 0.6700\n",
      "Epoch 10/10\n",
      "1250/1250 [==============================] - 7s 5ms/step - loss: 0.9016 - accuracy: 0.6951 - val_loss: 0.9527 - val_accuracy: 0.6734\n"
     ]
    },
    {
     "data": {
      "text/plain": [
       "<tensorflow.python.keras.callbacks.History at 0x25e49a2f100>"
      ]
     },
     "execution_count": 7,
     "metadata": {},
     "output_type": "execute_result"
    }
   ],
   "source": [
    "comp = {\n",
    "\"optimizer\":'adam',\n",
    "\"loss\": tf.keras.losses.SparseCategoricalCrossentropy(),\n",
    "\"metrics\": ['accuracy']}\n",
    "\n",
    "pruned_model.compile(**comp)\n",
    "\n",
    "pruned_model.fit(train_images, train_labels, epochs=10, validation_split=0.2)"
   ]
  },
  {
   "cell_type": "markdown",
   "metadata": {
    "id": "0y_x_9EjAQbz"
   },
   "source": [
    "Compare both models"
   ]
  },
  {
   "cell_type": "code",
   "execution_count": 8,
   "metadata": {
    "id": "hw1IIf0CAReG"
   },
   "outputs": [
    {
     "name": "stdout",
     "output_type": "stream",
     "text": [
      "313/313 - 1s - loss: 0.9200 - accuracy: 0.6895\n",
      "313/313 - 1s - loss: 0.9556 - accuracy: 0.6757\n",
      "Model accuracy before pruning: 68.95%\n",
      "Model accuracy after pruning: 67.57%\n"
     ]
    }
   ],
   "source": [
    "model_test_loss, model_test_acc = model.evaluate(test_images,  test_labels, verbose=2)\n",
    "pruned_model_test_loss, pruned_model_test_acc = pruned_model.evaluate(test_images,  test_labels, verbose=2)\n",
    "\n",
    "print(f\"Model accuracy before pruning: {model_test_acc*100:.2f}%\")\n",
    "print(f\"Model accuracy after pruning: {pruned_model_test_acc*100:.2f}%\")"
   ]
  },
  {
   "cell_type": "code",
   "execution_count": 9,
   "metadata": {},
   "outputs": [
    {
     "name": "stdout",
     "output_type": "stream",
     "text": [
      "Total number of parameters before pruning: 75178\n",
      "Total number of parameters after pruning: 29710\n",
      "Pruned model contains only 39.52% of the original number of parameters.\n"
     ]
    }
   ],
   "source": [
    "print(f\"Total number of parameters before pruning: {model.count_params()}\")\n",
    "print(f\"Total number of parameters after pruning: {pruned_model.count_params()}\")\n",
    "print(f\"Pruned model contains only {(pruned_model.count_params()/model.count_params())*100:.2f}% of the original number of parameters.\")"
   ]
  },
  {
   "cell_type": "markdown",
   "metadata": {
    "id": "vSgcm-WoclIF"
   },
   "source": [
    "# Prune a model to a maximum accuracy loss\n",
    "\n",
    "We define the arguments to compile the model. In this case, we only want to have an accuracy loss of 3%.\n",
    "In this example we have loaded the data directly from a TensorFlow dataset. Therefore, we do not have a defined dataloader (path or file). However, the structure of the training data is the same as the data we would read from a Python file. Therefore, we use a trick here and pass an existing FILE from the current folder as the dataloader path. This way the correct functions will be executed afterwards and no error will be issued."
   ]
  },
  {
   "cell_type": "code",
   "execution_count": 10,
   "metadata": {
    "id": "rUtd-GqJdJNx"
   },
   "outputs": [
    {
     "name": "stdout",
     "output_type": "stream",
     "text": [
      "313/313 [==============================] - 1s 3ms/step - loss: 0.6617 - accuracy: 0.7707\n",
      "Start model accuracy: 77.06999778747559%\n",
      "Next pruning factors: 5\n",
      "Finish with pruning\n",
      "Before pruning:\n",
      "Model: \"sequential\"\n",
      "_________________________________________________________________\n",
      "Layer (type)                 Output Shape              Param #   \n",
      "=================================================================\n",
      "conv2d (Conv2D)              (None, 30, 30, 32)        896       \n",
      "_________________________________________________________________\n",
      "max_pooling2d (MaxPooling2D) (None, 15, 15, 32)        0         \n",
      "_________________________________________________________________\n",
      "conv2d_1 (Conv2D)            (None, 13, 13, 64)        18496     \n",
      "_________________________________________________________________\n",
      "max_pooling2d_1 (MaxPooling2 (None, 6, 6, 64)          0         \n",
      "_________________________________________________________________\n",
      "conv2d_2 (Conv2D)            (None, 4, 4, 64)          36928     \n",
      "_________________________________________________________________\n",
      "max_pooling2d_2 (MaxPooling2 (None, 2, 2, 64)          0         \n",
      "_________________________________________________________________\n",
      "flatten (Flatten)            (None, 256)               0         \n",
      "_________________________________________________________________\n",
      "dense (Dense)                (None, 64)                16448     \n",
      "_________________________________________________________________\n",
      "dropout (Dropout)            (None, 64)                0         \n",
      "_________________________________________________________________\n",
      "dense_1 (Dense)              (None, 32)                2080      \n",
      "_________________________________________________________________\n",
      "dropout_1 (Dropout)          (None, 32)                0         \n",
      "_________________________________________________________________\n",
      "dense_2 (Dense)              (None, 10)                330       \n",
      "=================================================================\n",
      "Total params: 75,178\n",
      "Trainable params: 75,178\n",
      "Non-trainable params: 0\n",
      "_________________________________________________________________\n",
      "After pruning:\n",
      "Model: \"sequential\"\n",
      "_________________________________________________________________\n",
      "Layer (type)                 Output Shape              Param #   \n",
      "=================================================================\n",
      "conv2d (Conv2D)              (None, 30, 30, 31)        868       \n",
      "_________________________________________________________________\n",
      "max_pooling2d (MaxPooling2D) (None, 15, 15, 31)        0         \n",
      "_________________________________________________________________\n",
      "conv2d_1 (Conv2D)            (None, 13, 13, 61)        17080     \n",
      "_________________________________________________________________\n",
      "max_pooling2d_1 (MaxPooling2 (None, 6, 6, 61)          0         \n",
      "_________________________________________________________________\n",
      "conv2d_2 (Conv2D)            (None, 4, 4, 61)          33550     \n",
      "_________________________________________________________________\n",
      "max_pooling2d_2 (MaxPooling2 (None, 2, 2, 61)          0         \n",
      "_________________________________________________________________\n",
      "flatten (Flatten)            (None, 244)               0         \n",
      "_________________________________________________________________\n",
      "dense (Dense)                (None, 61)                14945     \n",
      "_________________________________________________________________\n",
      "dropout (Dropout)            (None, 61)                0         \n",
      "_________________________________________________________________\n",
      "dense_1 (Dense)              (None, 31)                1922      \n",
      "_________________________________________________________________\n",
      "dropout_1 (Dropout)          (None, 31)                0         \n",
      "_________________________________________________________________\n",
      "dense_2 (Dense)              (None, 10)                320       \n",
      "=================================================================\n",
      "Total params: 68,685\n",
      "Trainable params: 68,685\n",
      "Non-trainable params: 0\n",
      "_________________________________________________________________\n",
      "Model built\n",
      "Epoch 1/10\n",
      "625/625 [==============================] - 4s 6ms/step - loss: 1.3213 - accuracy: 0.5365 - val_loss: 0.9886 - val_accuracy: 0.6516\n",
      "Epoch 2/10\n",
      "625/625 [==============================] - 3s 6ms/step - loss: 1.0337 - accuracy: 0.6444 - val_loss: 0.8709 - val_accuracy: 0.6931\n",
      "Epoch 3/10\n",
      "625/625 [==============================] - 3s 6ms/step - loss: 0.9509 - accuracy: 0.6734 - val_loss: 0.8476 - val_accuracy: 0.7055\n",
      "Epoch 4/10\n",
      "625/625 [==============================] - 3s 5ms/step - loss: 0.8963 - accuracy: 0.6945 - val_loss: 0.8292 - val_accuracy: 0.7083\n",
      "Epoch 5/10\n",
      "625/625 [==============================] - 3s 5ms/step - loss: 0.8661 - accuracy: 0.7037 - val_loss: 0.8485 - val_accuracy: 0.7055\n",
      "Epoch 6/10\n",
      "625/625 [==============================] - 4s 6ms/step - loss: 0.8228 - accuracy: 0.7196 - val_loss: 0.8489 - val_accuracy: 0.7041\n",
      "Epoch 7/10\n",
      "625/625 [==============================] - 4s 6ms/step - loss: 0.8071 - accuracy: 0.7220 - val_loss: 0.8375 - val_accuracy: 0.7098\n",
      "Epoch 8/10\n",
      "625/625 [==============================] - 3s 6ms/step - loss: 0.7748 - accuracy: 0.7346 - val_loss: 0.8434 - val_accuracy: 0.7126\n",
      "Epoch 9/10\n",
      "625/625 [==============================] - 3s 6ms/step - loss: 0.7543 - accuracy: 0.7416 - val_loss: 0.8239 - val_accuracy: 0.7217\n",
      "Next pruning factors: 7\n",
      "Finish with pruning\n",
      "Before pruning:\n",
      "Model: \"sequential\"\n",
      "_________________________________________________________________\n",
      "Layer (type)                 Output Shape              Param #   \n",
      "=================================================================\n",
      "conv2d (Conv2D)              (None, 30, 30, 32)        896       \n",
      "_________________________________________________________________\n",
      "max_pooling2d (MaxPooling2D) (None, 15, 15, 32)        0         \n",
      "_________________________________________________________________\n",
      "conv2d_1 (Conv2D)            (None, 13, 13, 64)        18496     \n",
      "_________________________________________________________________\n",
      "max_pooling2d_1 (MaxPooling2 (None, 6, 6, 64)          0         \n",
      "_________________________________________________________________\n",
      "conv2d_2 (Conv2D)            (None, 4, 4, 64)          36928     \n",
      "_________________________________________________________________\n",
      "max_pooling2d_2 (MaxPooling2 (None, 2, 2, 64)          0         \n",
      "_________________________________________________________________\n",
      "flatten (Flatten)            (None, 256)               0         \n",
      "_________________________________________________________________\n",
      "dense (Dense)                (None, 64)                16448     \n",
      "_________________________________________________________________\n",
      "dropout (Dropout)            (None, 64)                0         \n",
      "_________________________________________________________________\n",
      "dense_1 (Dense)              (None, 32)                2080      \n",
      "_________________________________________________________________\n",
      "dropout_1 (Dropout)          (None, 32)                0         \n",
      "_________________________________________________________________\n",
      "dense_2 (Dense)              (None, 10)                330       \n",
      "=================================================================\n",
      "Total params: 75,178\n",
      "Trainable params: 75,178\n",
      "Non-trainable params: 0\n",
      "_________________________________________________________________\n",
      "After pruning:\n",
      "Model: \"sequential\"\n",
      "_________________________________________________________________\n",
      "Layer (type)                 Output Shape              Param #   \n",
      "=================================================================\n",
      "conv2d (Conv2D)              (None, 30, 30, 30)        840       \n",
      "_________________________________________________________________\n",
      "max_pooling2d (MaxPooling2D) (None, 15, 15, 30)        0         \n",
      "_________________________________________________________________\n",
      "conv2d_1 (Conv2D)            (None, 13, 13, 60)        16260     \n",
      "_________________________________________________________________\n",
      "max_pooling2d_1 (MaxPooling2 (None, 6, 6, 60)          0         \n",
      "_________________________________________________________________\n",
      "conv2d_2 (Conv2D)            (None, 4, 4, 60)          32460     \n",
      "_________________________________________________________________\n",
      "max_pooling2d_2 (MaxPooling2 (None, 2, 2, 60)          0         \n",
      "_________________________________________________________________\n",
      "flatten (Flatten)            (None, 240)               0         \n",
      "_________________________________________________________________\n",
      "dense (Dense)                (None, 60)                14460     \n",
      "_________________________________________________________________\n",
      "dropout (Dropout)            (None, 60)                0         \n",
      "_________________________________________________________________\n",
      "dense_1 (Dense)              (None, 30)                1830      \n",
      "_________________________________________________________________\n",
      "dropout_1 (Dropout)          (None, 30)                0         \n",
      "_________________________________________________________________\n",
      "dense_2 (Dense)              (None, 10)                310       \n",
      "=================================================================\n",
      "Total params: 66,160\n",
      "Trainable params: 66,160\n",
      "Non-trainable params: 0\n",
      "_________________________________________________________________\n",
      "Model built\n",
      "Epoch 1/10\n",
      "625/625 [==============================] - 4s 6ms/step - loss: 1.2672 - accuracy: 0.5569 - val_loss: 0.9502 - val_accuracy: 0.6625\n",
      "Epoch 2/10\n",
      "625/625 [==============================] - 3s 5ms/step - loss: 1.0256 - accuracy: 0.6458 - val_loss: 0.9169 - val_accuracy: 0.6700\n",
      "Epoch 3/10\n",
      "625/625 [==============================] - 3s 5ms/step - loss: 0.9437 - accuracy: 0.6770 - val_loss: 0.8530 - val_accuracy: 0.7035\n",
      "Epoch 4/10\n",
      "625/625 [==============================] - 3s 5ms/step - loss: 0.8967 - accuracy: 0.6928 - val_loss: 0.8766 - val_accuracy: 0.6861\n",
      "Epoch 5/10\n",
      "625/625 [==============================] - 3s 5ms/step - loss: 0.8533 - accuracy: 0.7062 - val_loss: 0.8535 - val_accuracy: 0.7040\n",
      "Epoch 6/10\n",
      "625/625 [==============================] - 3s 5ms/step - loss: 0.8232 - accuracy: 0.7203 - val_loss: 0.8652 - val_accuracy: 0.6967\n",
      "Epoch 7/10\n",
      "625/625 [==============================] - 3s 5ms/step - loss: 0.7972 - accuracy: 0.7275 - val_loss: 0.8001 - val_accuracy: 0.7248\n",
      "Next pruning factors: 12\n",
      "Finish with pruning\n",
      "Before pruning:\n",
      "Model: \"sequential\"\n",
      "_________________________________________________________________\n",
      "Layer (type)                 Output Shape              Param #   \n",
      "=================================================================\n",
      "conv2d (Conv2D)              (None, 30, 30, 32)        896       \n",
      "_________________________________________________________________\n",
      "max_pooling2d (MaxPooling2D) (None, 15, 15, 32)        0         \n",
      "_________________________________________________________________\n",
      "conv2d_1 (Conv2D)            (None, 13, 13, 64)        18496     \n",
      "_________________________________________________________________\n",
      "max_pooling2d_1 (MaxPooling2 (None, 6, 6, 64)          0         \n",
      "_________________________________________________________________\n",
      "conv2d_2 (Conv2D)            (None, 4, 4, 64)          36928     \n",
      "_________________________________________________________________\n",
      "max_pooling2d_2 (MaxPooling2 (None, 2, 2, 64)          0         \n",
      "_________________________________________________________________\n",
      "flatten (Flatten)            (None, 256)               0         \n",
      "_________________________________________________________________\n",
      "dense (Dense)                (None, 64)                16448     \n",
      "_________________________________________________________________\n",
      "dropout (Dropout)            (None, 64)                0         \n",
      "_________________________________________________________________\n",
      "dense_1 (Dense)              (None, 32)                2080      \n",
      "_________________________________________________________________\n",
      "dropout_1 (Dropout)          (None, 32)                0         \n",
      "_________________________________________________________________\n",
      "dense_2 (Dense)              (None, 10)                330       \n",
      "=================================================================\n",
      "Total params: 75,178\n",
      "Trainable params: 75,178\n",
      "Non-trainable params: 0\n",
      "_________________________________________________________________\n",
      "After pruning:\n",
      "Model: \"sequential\"\n",
      "_________________________________________________________________\n",
      "Layer (type)                 Output Shape              Param #   \n",
      "=================================================================\n",
      "conv2d (Conv2D)              (None, 30, 30, 29)        812       \n",
      "_________________________________________________________________\n",
      "max_pooling2d (MaxPooling2D) (None, 15, 15, 29)        0         \n",
      "_________________________________________________________________\n",
      "conv2d_1 (Conv2D)            (None, 13, 13, 57)        14934     \n",
      "_________________________________________________________________\n",
      "max_pooling2d_1 (MaxPooling2 (None, 6, 6, 57)          0         \n",
      "_________________________________________________________________\n",
      "conv2d_2 (Conv2D)            (None, 4, 4, 57)          29298     \n",
      "_________________________________________________________________\n",
      "max_pooling2d_2 (MaxPooling2 (None, 2, 2, 57)          0         \n",
      "_________________________________________________________________\n",
      "flatten (Flatten)            (None, 228)               0         \n",
      "_________________________________________________________________\n",
      "dense (Dense)                (None, 57)                13053     \n",
      "_________________________________________________________________\n",
      "dropout (Dropout)            (None, 57)                0         \n",
      "_________________________________________________________________\n",
      "dense_1 (Dense)              (None, 29)                1682      \n",
      "_________________________________________________________________\n",
      "dropout_1 (Dropout)          (None, 29)                0         \n",
      "_________________________________________________________________\n",
      "dense_2 (Dense)              (None, 10)                300       \n",
      "=================================================================\n",
      "Total params: 60,079\n",
      "Trainable params: 60,079\n",
      "Non-trainable params: 0\n",
      "_________________________________________________________________\n",
      "Model built\n",
      "Epoch 1/10\n",
      "625/625 [==============================] - 4s 6ms/step - loss: 1.3520 - accuracy: 0.5200 - val_loss: 1.0090 - val_accuracy: 0.6431\n",
      "Epoch 2/10\n",
      "625/625 [==============================] - 3s 5ms/step - loss: 1.0760 - accuracy: 0.6259 - val_loss: 0.9279 - val_accuracy: 0.6668\n",
      "Epoch 3/10\n",
      "625/625 [==============================] - 3s 5ms/step - loss: 0.9748 - accuracy: 0.6675 - val_loss: 0.8674 - val_accuracy: 0.6940\n",
      "Epoch 4/10\n",
      "625/625 [==============================] - 3s 5ms/step - loss: 0.9173 - accuracy: 0.6866 - val_loss: 0.8560 - val_accuracy: 0.7030\n",
      "Epoch 5/10\n",
      "625/625 [==============================] - 3s 5ms/step - loss: 0.8791 - accuracy: 0.7003 - val_loss: 0.8637 - val_accuracy: 0.6971\n",
      "Epoch 6/10\n",
      "625/625 [==============================] - 3s 5ms/step - loss: 0.8387 - accuracy: 0.7136 - val_loss: 0.8141 - val_accuracy: 0.7155\n",
      "Epoch 7/10\n",
      "625/625 [==============================] - 3s 5ms/step - loss: 0.7997 - accuracy: 0.7254 - val_loss: 0.8372 - val_accuracy: 0.7125\n",
      "Epoch 8/10\n",
      "625/625 [==============================] - 3s 5ms/step - loss: 0.7834 - accuracy: 0.7325 - val_loss: 0.8288 - val_accuracy: 0.7156\n",
      "Epoch 9/10\n",
      "625/625 [==============================] - 3s 5ms/step - loss: 0.7571 - accuracy: 0.7418 - val_loss: 0.8500 - val_accuracy: 0.7075\n",
      "Epoch 10/10\n",
      "625/625 [==============================] - 3s 5ms/step - loss: 0.7345 - accuracy: 0.7470 - val_loss: 0.8484 - val_accuracy: 0.7084\n",
      "Next pruning factors: 9\n",
      "Finish with pruning\n",
      "Before pruning:\n",
      "Model: \"sequential\"\n",
      "_________________________________________________________________\n",
      "Layer (type)                 Output Shape              Param #   \n",
      "=================================================================\n",
      "conv2d (Conv2D)              (None, 30, 30, 32)        896       \n",
      "_________________________________________________________________\n",
      "max_pooling2d (MaxPooling2D) (None, 15, 15, 32)        0         \n",
      "_________________________________________________________________\n",
      "conv2d_1 (Conv2D)            (None, 13, 13, 64)        18496     \n",
      "_________________________________________________________________\n",
      "max_pooling2d_1 (MaxPooling2 (None, 6, 6, 64)          0         \n",
      "_________________________________________________________________\n",
      "conv2d_2 (Conv2D)            (None, 4, 4, 64)          36928     \n",
      "_________________________________________________________________\n",
      "max_pooling2d_2 (MaxPooling2 (None, 2, 2, 64)          0         \n",
      "_________________________________________________________________\n",
      "flatten (Flatten)            (None, 256)               0         \n",
      "_________________________________________________________________\n",
      "dense (Dense)                (None, 64)                16448     \n",
      "_________________________________________________________________\n",
      "dropout (Dropout)            (None, 64)                0         \n",
      "_________________________________________________________________\n",
      "dense_1 (Dense)              (None, 32)                2080      \n",
      "_________________________________________________________________\n",
      "dropout_1 (Dropout)          (None, 32)                0         \n",
      "_________________________________________________________________\n",
      "dense_2 (Dense)              (None, 10)                330       \n",
      "=================================================================\n",
      "Total params: 75,178\n",
      "Trainable params: 75,178\n",
      "Non-trainable params: 0\n",
      "_________________________________________________________________\n",
      "After pruning:\n",
      "Model: \"sequential\"\n",
      "_________________________________________________________________\n",
      "Layer (type)                 Output Shape              Param #   \n",
      "=================================================================\n",
      "conv2d (Conv2D)              (None, 30, 30, 30)        840       \n",
      "_________________________________________________________________\n",
      "max_pooling2d (MaxPooling2D) (None, 15, 15, 30)        0         \n",
      "_________________________________________________________________\n",
      "conv2d_1 (Conv2D)            (None, 13, 13, 59)        15989     \n",
      "_________________________________________________________________\n",
      "max_pooling2d_1 (MaxPooling2 (None, 6, 6, 59)          0         \n",
      "_________________________________________________________________\n",
      "conv2d_2 (Conv2D)            (None, 4, 4, 59)          31388     \n",
      "_________________________________________________________________\n",
      "max_pooling2d_2 (MaxPooling2 (None, 2, 2, 59)          0         \n",
      "_________________________________________________________________\n",
      "flatten (Flatten)            (None, 236)               0         \n",
      "_________________________________________________________________\n",
      "dense (Dense)                (None, 59)                13983     \n",
      "_________________________________________________________________\n",
      "dropout (Dropout)            (None, 59)                0         \n",
      "_________________________________________________________________\n",
      "dense_1 (Dense)              (None, 30)                1800      \n",
      "_________________________________________________________________\n",
      "dropout_1 (Dropout)          (None, 30)                0         \n",
      "_________________________________________________________________\n",
      "dense_2 (Dense)              (None, 10)                310       \n",
      "=================================================================\n",
      "Total params: 64,310\n",
      "Trainable params: 64,310\n",
      "Non-trainable params: 0\n",
      "_________________________________________________________________\n",
      "Model built\n",
      "Epoch 1/10\n",
      "625/625 [==============================] - 4s 6ms/step - loss: 1.2542 - accuracy: 0.5655 - val_loss: 0.9606 - val_accuracy: 0.6623\n",
      "Epoch 2/10\n",
      "625/625 [==============================] - 3s 5ms/step - loss: 1.0121 - accuracy: 0.6536 - val_loss: 0.8953 - val_accuracy: 0.6834\n",
      "Epoch 3/10\n",
      "625/625 [==============================] - 3s 5ms/step - loss: 0.9329 - accuracy: 0.6805 - val_loss: 0.8554 - val_accuracy: 0.6997\n",
      "Epoch 4/10\n",
      "625/625 [==============================] - 3s 5ms/step - loss: 0.8818 - accuracy: 0.7003 - val_loss: 0.8260 - val_accuracy: 0.7078\n",
      "Epoch 5/10\n",
      "625/625 [==============================] - 4s 6ms/step - loss: 0.8452 - accuracy: 0.7131 - val_loss: 0.8642 - val_accuracy: 0.6995\n",
      "Epoch 6/10\n",
      "625/625 [==============================] - 3s 5ms/step - loss: 0.8088 - accuracy: 0.7254 - val_loss: 0.8131 - val_accuracy: 0.7136\n",
      "Epoch 7/10\n",
      "625/625 [==============================] - 3s 5ms/step - loss: 0.7793 - accuracy: 0.7363 - val_loss: 0.8372 - val_accuracy: 0.7103\n",
      "Epoch 8/10\n",
      "625/625 [==============================] - 3s 5ms/step - loss: 0.7567 - accuracy: 0.7430 - val_loss: 0.8320 - val_accuracy: 0.7159\n",
      "Epoch 9/10\n",
      "625/625 [==============================] - 3s 5ms/step - loss: 0.7431 - accuracy: 0.7485 - val_loss: 0.8417 - val_accuracy: 0.7179\n",
      "Epoch 10/10\n",
      "625/625 [==============================] - 3s 5ms/step - loss: 0.7106 - accuracy: 0.7601 - val_loss: 0.9015 - val_accuracy: 0.7022\n",
      "Pruningfactor dense and conv: 7\n"
     ]
    }
   ],
   "source": [
    "comp = {\n",
    "  \"optimizer\": 'adam',\n",
    "  \"loss\": tf.keras.losses.SparseCategoricalCrossentropy(),\n",
    "  \"metrics\": 'accuracy'\n",
    "}\n",
    "\n",
    "auto_model = pruning.pruning_for_acc(model, train_images, train_labels, comp, pruning_acc=None,\n",
    "                                     max_acc_loss=5, num_classes=10, label_one_hot=False)"
   ]
  },
  {
   "cell_type": "code",
   "execution_count": 11,
   "metadata": {},
   "outputs": [
    {
     "name": "stdout",
     "output_type": "stream",
     "text": [
      "Model: \"sequential\"\n",
      "_________________________________________________________________\n",
      "Layer (type)                 Output Shape              Param #   \n",
      "=================================================================\n",
      "conv2d (Conv2D)              (None, 30, 30, 30)        840       \n",
      "_________________________________________________________________\n",
      "max_pooling2d (MaxPooling2D) (None, 15, 15, 30)        0         \n",
      "_________________________________________________________________\n",
      "conv2d_1 (Conv2D)            (None, 13, 13, 60)        16260     \n",
      "_________________________________________________________________\n",
      "max_pooling2d_1 (MaxPooling2 (None, 6, 6, 60)          0         \n",
      "_________________________________________________________________\n",
      "conv2d_2 (Conv2D)            (None, 4, 4, 60)          32460     \n",
      "_________________________________________________________________\n",
      "max_pooling2d_2 (MaxPooling2 (None, 2, 2, 60)          0         \n",
      "_________________________________________________________________\n",
      "flatten (Flatten)            (None, 240)               0         \n",
      "_________________________________________________________________\n",
      "dense (Dense)                (None, 60)                14460     \n",
      "_________________________________________________________________\n",
      "dropout (Dropout)            (None, 60)                0         \n",
      "_________________________________________________________________\n",
      "dense_1 (Dense)              (None, 30)                1830      \n",
      "_________________________________________________________________\n",
      "dropout_1 (Dropout)          (None, 30)                0         \n",
      "_________________________________________________________________\n",
      "dense_2 (Dense)              (None, 10)                310       \n",
      "=================================================================\n",
      "Total params: 66,160\n",
      "Trainable params: 66,160\n",
      "Non-trainable params: 0\n",
      "_________________________________________________________________\n"
     ]
    }
   ],
   "source": [
    "auto_model.summary()"
   ]
  },
  {
   "cell_type": "markdown",
   "metadata": {},
   "source": [
    "Compare both models"
   ]
  },
  {
   "cell_type": "code",
   "execution_count": 12,
   "metadata": {},
   "outputs": [
    {
     "name": "stdout",
     "output_type": "stream",
     "text": [
      "313/313 - 1s - loss: 0.9200 - accuracy: 0.6895\n",
      "313/313 - 1s - loss: 0.8793 - accuracy: 0.6979\n",
      "Model accuracy before pruning: 68.95%\n",
      "Model accuracy after pruning: 69.79%\n"
     ]
    }
   ],
   "source": [
    "model_test_loss, model_test_acc = model.evaluate(test_images,  test_labels, verbose=2)\n",
    "auto_model_test_loss, auto_model_test_acc = auto_model.evaluate(test_images,  test_labels, verbose=2)\n",
    "\n",
    "print(f\"Model accuracy before pruning: {model_test_acc*100:.2f}%\")\n",
    "print(f\"Model accuracy after pruning: {auto_model_test_acc*100:.2f}%\")"
   ]
  },
  {
   "cell_type": "code",
   "execution_count": 13,
   "metadata": {},
   "outputs": [
    {
     "name": "stdout",
     "output_type": "stream",
     "text": [
      "Total number of parameters before pruning: 75178\n",
      "Total number of parameters after pruning: 66160\n",
      "Pruned model contains only 88.00% of the original number of parameters.\n"
     ]
    }
   ],
   "source": [
    "print(f\"Total number of parameters before pruning: {model.count_params()}\")\n",
    "print(f\"Total number of parameters after pruning: {auto_model.count_params()}\")\n",
    "print(f\"Pruned model contains only {(auto_model.count_params()/model.count_params())*100:.2f}% of the original number of parameters.\")"
   ]
  }
 ],
 "metadata": {
  "colab": {
   "collapsed_sections": [],
   "name": "How_to_use_the_Framework.ipynb",
   "provenance": []
  },
  "kernelspec": {
   "display_name": "Python 3.8.12 ('AutoFlow')",
   "language": "python",
   "name": "python3"
  },
  "language_info": {
   "codemirror_mode": {
    "name": "ipython",
    "version": 3
   },
   "file_extension": ".py",
   "mimetype": "text/x-python",
   "name": "python",
   "nbconvert_exporter": "python",
   "pygments_lexer": "ipython3",
   "version": "3.8.12"
  },
  "vscode": {
   "interpreter": {
    "hash": "4f32e5c370c606f0f46152abb6e37dab14f41f338aa6bf5a663565349fcdc4cc"
   }
  }
 },
 "nbformat": 4,
 "nbformat_minor": 1
}
